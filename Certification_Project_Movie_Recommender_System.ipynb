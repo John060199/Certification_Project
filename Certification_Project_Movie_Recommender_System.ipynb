{
 "cells": [
  {
   "cell_type": "markdown",
   "id": "a4c98295-e54b-4e32-99e6-5336ce887415",
   "metadata": {},
   "source": [
    "# <b> Certification Project to build Movie Recommender Systems:\n",
    "<h3> This movie recommendation platform allows users to get movie recommendations based on movies they've seen, preferred genres, and movies liked by other users."
   ]
  },
  {
   "cell_type": "code",
   "execution_count": 1,
   "id": "b5bf976b-6b89-40c9-a806-7bd0a8b13be4",
   "metadata": {
    "tags": []
   },
   "outputs": [],
   "source": [
    "import warnings\n",
    "warnings.filterwarnings('ignore')"
   ]
  },
  {
   "cell_type": "markdown",
   "id": "e8aef40f-7765-478f-9e40-10f378c1d017",
   "metadata": {},
   "source": [
    "## Importing necessary libraries:"
   ]
  },
  {
   "cell_type": "code",
   "execution_count": 2,
   "id": "d5b00d98-a098-45bb-b9c1-856ed8e16f12",
   "metadata": {
    "tags": []
   },
   "outputs": [],
   "source": [
    "import pandas as pd\n",
    "import numpy as np\n",
    "import matplotlib.pyplot as plt\n",
    "import seaborn as sns\n",
    "#csr_matrix and NearestNeighbors algorithm:\n",
    "from scipy.sparse import csr_matrix\n",
    "from sklearn.neighbors import NearestNeighbors"
   ]
  },
  {
   "cell_type": "code",
   "execution_count": 3,
   "id": "79415ab2-9df8-46dd-93f6-b8caf9ae5736",
   "metadata": {
    "tags": []
   },
   "outputs": [],
   "source": [
    "#Loading datasets:\n",
    "movies_ds = pd.read_csv('movies.csv')\n",
    "ratings_ds = pd.read_csv('ratings.csv')"
   ]
  },
  {
   "cell_type": "code",
   "execution_count": 4,
   "id": "30e37c80-2b78-450f-b5a1-cf3ded80e47b",
   "metadata": {
    "tags": []
   },
   "outputs": [
    {
     "data": {
      "text/plain": [
       "((10329, 3), (105339, 4))"
      ]
     },
     "execution_count": 4,
     "metadata": {},
     "output_type": "execute_result"
    }
   ],
   "source": [
    "# Shapes of two ds:\n",
    "movies_ds.shape, ratings_ds.shape"
   ]
  },
  {
   "cell_type": "code",
   "execution_count": 5,
   "id": "ef9f1cc2-4e63-4b9a-876a-93d87e299d24",
   "metadata": {
    "tags": []
   },
   "outputs": [
    {
     "data": {
      "text/html": [
       "<div>\n",
       "<style scoped>\n",
       "    .dataframe tbody tr th:only-of-type {\n",
       "        vertical-align: middle;\n",
       "    }\n",
       "\n",
       "    .dataframe tbody tr th {\n",
       "        vertical-align: top;\n",
       "    }\n",
       "\n",
       "    .dataframe thead th {\n",
       "        text-align: right;\n",
       "    }\n",
       "</style>\n",
       "<table border=\"1\" class=\"dataframe\">\n",
       "  <thead>\n",
       "    <tr style=\"text-align: right;\">\n",
       "      <th></th>\n",
       "      <th>movieId</th>\n",
       "      <th>title</th>\n",
       "      <th>genres</th>\n",
       "    </tr>\n",
       "  </thead>\n",
       "  <tbody>\n",
       "    <tr>\n",
       "      <th>0</th>\n",
       "      <td>1</td>\n",
       "      <td>Toy Story (1995)</td>\n",
       "      <td>Adventure|Animation|Children|Comedy|Fantasy</td>\n",
       "    </tr>\n",
       "    <tr>\n",
       "      <th>1</th>\n",
       "      <td>2</td>\n",
       "      <td>Jumanji (1995)</td>\n",
       "      <td>Adventure|Children|Fantasy</td>\n",
       "    </tr>\n",
       "    <tr>\n",
       "      <th>2</th>\n",
       "      <td>3</td>\n",
       "      <td>Grumpier Old Men (1995)</td>\n",
       "      <td>Comedy|Romance</td>\n",
       "    </tr>\n",
       "    <tr>\n",
       "      <th>3</th>\n",
       "      <td>4</td>\n",
       "      <td>Waiting to Exhale (1995)</td>\n",
       "      <td>Comedy|Drama|Romance</td>\n",
       "    </tr>\n",
       "    <tr>\n",
       "      <th>4</th>\n",
       "      <td>5</td>\n",
       "      <td>Father of the Bride Part II (1995)</td>\n",
       "      <td>Comedy</td>\n",
       "    </tr>\n",
       "  </tbody>\n",
       "</table>\n",
       "</div>"
      ],
      "text/plain": [
       "   movieId                               title  \\\n",
       "0        1                    Toy Story (1995)   \n",
       "1        2                      Jumanji (1995)   \n",
       "2        3             Grumpier Old Men (1995)   \n",
       "3        4            Waiting to Exhale (1995)   \n",
       "4        5  Father of the Bride Part II (1995)   \n",
       "\n",
       "                                        genres  \n",
       "0  Adventure|Animation|Children|Comedy|Fantasy  \n",
       "1                   Adventure|Children|Fantasy  \n",
       "2                               Comedy|Romance  \n",
       "3                         Comedy|Drama|Romance  \n",
       "4                                       Comedy  "
      ]
     },
     "execution_count": 5,
     "metadata": {},
     "output_type": "execute_result"
    }
   ],
   "source": [
    "# Displaying first 5 records of movies dataset:\n",
    "movies_ds.head()"
   ]
  },
  {
   "cell_type": "code",
   "execution_count": 6,
   "id": "ed4fbed1-45ec-41d9-be03-277e0bc10c6a",
   "metadata": {
    "tags": []
   },
   "outputs": [
    {
     "data": {
      "text/html": [
       "<div>\n",
       "<style scoped>\n",
       "    .dataframe tbody tr th:only-of-type {\n",
       "        vertical-align: middle;\n",
       "    }\n",
       "\n",
       "    .dataframe tbody tr th {\n",
       "        vertical-align: top;\n",
       "    }\n",
       "\n",
       "    .dataframe thead th {\n",
       "        text-align: right;\n",
       "    }\n",
       "</style>\n",
       "<table border=\"1\" class=\"dataframe\">\n",
       "  <thead>\n",
       "    <tr style=\"text-align: right;\">\n",
       "      <th></th>\n",
       "      <th>userId</th>\n",
       "      <th>movieId</th>\n",
       "      <th>rating</th>\n",
       "      <th>timestamp</th>\n",
       "    </tr>\n",
       "  </thead>\n",
       "  <tbody>\n",
       "    <tr>\n",
       "      <th>0</th>\n",
       "      <td>1</td>\n",
       "      <td>16</td>\n",
       "      <td>4.0</td>\n",
       "      <td>1217897793</td>\n",
       "    </tr>\n",
       "    <tr>\n",
       "      <th>1</th>\n",
       "      <td>1</td>\n",
       "      <td>24</td>\n",
       "      <td>1.5</td>\n",
       "      <td>1217895807</td>\n",
       "    </tr>\n",
       "    <tr>\n",
       "      <th>2</th>\n",
       "      <td>1</td>\n",
       "      <td>32</td>\n",
       "      <td>4.0</td>\n",
       "      <td>1217896246</td>\n",
       "    </tr>\n",
       "    <tr>\n",
       "      <th>3</th>\n",
       "      <td>1</td>\n",
       "      <td>47</td>\n",
       "      <td>4.0</td>\n",
       "      <td>1217896556</td>\n",
       "    </tr>\n",
       "    <tr>\n",
       "      <th>4</th>\n",
       "      <td>1</td>\n",
       "      <td>50</td>\n",
       "      <td>4.0</td>\n",
       "      <td>1217896523</td>\n",
       "    </tr>\n",
       "  </tbody>\n",
       "</table>\n",
       "</div>"
      ],
      "text/plain": [
       "   userId  movieId  rating   timestamp\n",
       "0       1       16     4.0  1217897793\n",
       "1       1       24     1.5  1217895807\n",
       "2       1       32     4.0  1217896246\n",
       "3       1       47     4.0  1217896556\n",
       "4       1       50     4.0  1217896523"
      ]
     },
     "execution_count": 6,
     "metadata": {},
     "output_type": "execute_result"
    }
   ],
   "source": [
    "# Displaying first 5 records of ratings dataset:\n",
    "ratings_ds.head()"
   ]
  },
  {
   "cell_type": "markdown",
   "id": "8e3d987a-65ab-4f25-8b0f-c3b98603f5c6",
   "metadata": {
    "tags": []
   },
   "source": [
    "## EDA process:"
   ]
  },
  {
   "cell_type": "markdown",
   "id": "ae24828c-1c6e-40ba-9c63-edf8593caa96",
   "metadata": {
    "jp-MarkdownHeadingCollapsed": true,
    "tags": []
   },
   "source": [
    "#### Checking for any null values or duplicated:"
   ]
  },
  {
   "cell_type": "code",
   "execution_count": 7,
   "id": "1fcc7b2c-5247-44fc-9ecc-32dde995166e",
   "metadata": {
    "tags": []
   },
   "outputs": [
    {
     "data": {
      "text/plain": [
       "movieId    0\n",
       "title      0\n",
       "genres     0\n",
       "dtype: int64"
      ]
     },
     "execution_count": 7,
     "metadata": {},
     "output_type": "execute_result"
    }
   ],
   "source": [
    "movies_ds.isna().sum()"
   ]
  },
  {
   "cell_type": "code",
   "execution_count": 8,
   "id": "3bc828ca-9ad2-41de-854b-ce361fd6c14b",
   "metadata": {
    "tags": []
   },
   "outputs": [
    {
     "data": {
      "text/plain": [
       "userId       0\n",
       "movieId      0\n",
       "rating       0\n",
       "timestamp    0\n",
       "dtype: int64"
      ]
     },
     "execution_count": 8,
     "metadata": {},
     "output_type": "execute_result"
    }
   ],
   "source": [
    "ratings_ds.isna().sum()"
   ]
  },
  {
   "cell_type": "code",
   "execution_count": 9,
   "id": "1472474e-bb00-4b88-95d5-d9ea039f9ccf",
   "metadata": {
    "tags": []
   },
   "outputs": [
    {
     "data": {
      "text/plain": [
       "0"
      ]
     },
     "execution_count": 9,
     "metadata": {},
     "output_type": "execute_result"
    }
   ],
   "source": [
    "movies_ds.duplicated().sum()"
   ]
  },
  {
   "cell_type": "code",
   "execution_count": 10,
   "id": "b2d17434-3e31-460c-b2e9-6ee972c6e360",
   "metadata": {
    "tags": []
   },
   "outputs": [
    {
     "data": {
      "text/plain": [
       "0"
      ]
     },
     "execution_count": 10,
     "metadata": {},
     "output_type": "execute_result"
    }
   ],
   "source": [
    "ratings_ds.duplicated().sum()"
   ]
  },
  {
   "cell_type": "markdown",
   "id": "ea896b51-8298-4c26-b7f7-182ab4d06cae",
   "metadata": {},
   "source": [
    "<h5> <I> Hence, there are neither null values nor duplicated values in the two datasets."
   ]
  },
  {
   "cell_type": "code",
   "execution_count": 11,
   "id": "fba17ec3-38c4-4715-a59a-4744b758ddf8",
   "metadata": {
    "tags": []
   },
   "outputs": [
    {
     "data": {
      "text/plain": [
       "movieId    10329\n",
       "title      10329\n",
       "genres     10329\n",
       "dtype: int64"
      ]
     },
     "execution_count": 11,
     "metadata": {},
     "output_type": "execute_result"
    }
   ],
   "source": [
    "movies_ds.count()"
   ]
  },
  {
   "cell_type": "code",
   "execution_count": 12,
   "id": "8e83f7c2-a4db-4f5c-b16b-4ea707f1e9b5",
   "metadata": {
    "tags": []
   },
   "outputs": [
    {
     "data": {
      "text/plain": [
       "10329"
      ]
     },
     "execution_count": 12,
     "metadata": {},
     "output_type": "execute_result"
    }
   ],
   "source": [
    "movies_ds['movieId'].nunique()"
   ]
  },
  {
   "cell_type": "code",
   "execution_count": 13,
   "id": "c2c369eb-43d2-448a-bba5-d5b32a2bedb4",
   "metadata": {
    "tags": []
   },
   "outputs": [
    {
     "data": {
      "text/plain": [
       "938"
      ]
     },
     "execution_count": 13,
     "metadata": {},
     "output_type": "execute_result"
    }
   ],
   "source": [
    "movies_ds['genres'].nunique()"
   ]
  },
  {
   "cell_type": "code",
   "execution_count": 14,
   "id": "8afa5e22-85ea-4d41-a58c-5dae3a3a7676",
   "metadata": {
    "tags": []
   },
   "outputs": [
    {
     "data": {
      "text/plain": [
       "10327"
      ]
     },
     "execution_count": 14,
     "metadata": {},
     "output_type": "execute_result"
    }
   ],
   "source": [
    "movies_ds['title'].nunique()"
   ]
  },
  {
   "cell_type": "markdown",
   "id": "14d34975-ed6b-4114-b349-dd7927acf285",
   "metadata": {},
   "source": [
    "<I> Out of 10329, 10011 are unique movies(titles), 938 are unique genres(separate and mixed genres) of different movies"
   ]
  },
  {
   "cell_type": "markdown",
   "id": "86e6d5ba-3f64-4278-9b67-33cc7ba6c5a6",
   "metadata": {
    "tags": []
   },
   "source": [
    "#### Distribution of different ratings value:"
   ]
  },
  {
   "cell_type": "code",
   "execution_count": 15,
   "id": "0fc3a4e7-6373-4ee2-a658-7d3be6076157",
   "metadata": {
    "tags": []
   },
   "outputs": [
    {
     "data": {
      "text/plain": [
       "4.0    28880\n",
       "3.0    21729\n",
       "5.0    14856\n",
       "3.5    12237\n",
       "4.5     8187\n",
       "2.0     7943\n",
       "2.5     5484\n",
       "1.0     3258\n",
       "1.5     1567\n",
       "0.5     1198\n",
       "Name: rating, dtype: int64"
      ]
     },
     "execution_count": 15,
     "metadata": {},
     "output_type": "execute_result"
    }
   ],
   "source": [
    "ratings_ds['rating'].value_counts()"
   ]
  },
  {
   "cell_type": "markdown",
   "id": "bfde74c8-3f54-4961-883f-7cd320141900",
   "metadata": {
    "tags": []
   },
   "source": [
    "#### By this we can determine that the average rating is 3.5 given to a movie by no.of users\n",
    "#### Also, there are max 149532 movies rated by 668 users"
   ]
  },
  {
   "cell_type": "code",
   "execution_count": 16,
   "id": "4cbb2acb-9d70-443d-b093-c570fe85beb8",
   "metadata": {
    "tags": []
   },
   "outputs": [
    {
     "data": {
      "text/html": [
       "<div>\n",
       "<style scoped>\n",
       "    .dataframe tbody tr th:only-of-type {\n",
       "        vertical-align: middle;\n",
       "    }\n",
       "\n",
       "    .dataframe tbody tr th {\n",
       "        vertical-align: top;\n",
       "    }\n",
       "\n",
       "    .dataframe thead th {\n",
       "        text-align: right;\n",
       "    }\n",
       "</style>\n",
       "<table border=\"1\" class=\"dataframe\">\n",
       "  <thead>\n",
       "    <tr style=\"text-align: right;\">\n",
       "      <th></th>\n",
       "      <th>userId</th>\n",
       "      <th>movieId</th>\n",
       "      <th>rating</th>\n",
       "      <th>timestamp</th>\n",
       "    </tr>\n",
       "  </thead>\n",
       "  <tbody>\n",
       "    <tr>\n",
       "      <th>count</th>\n",
       "      <td>105339.000000</td>\n",
       "      <td>105339.000000</td>\n",
       "      <td>105339.000000</td>\n",
       "      <td>1.053390e+05</td>\n",
       "    </tr>\n",
       "    <tr>\n",
       "      <th>mean</th>\n",
       "      <td>364.924539</td>\n",
       "      <td>13381.312477</td>\n",
       "      <td>3.516850</td>\n",
       "      <td>1.130424e+09</td>\n",
       "    </tr>\n",
       "    <tr>\n",
       "      <th>std</th>\n",
       "      <td>197.486905</td>\n",
       "      <td>26170.456869</td>\n",
       "      <td>1.044872</td>\n",
       "      <td>1.802660e+08</td>\n",
       "    </tr>\n",
       "    <tr>\n",
       "      <th>min</th>\n",
       "      <td>1.000000</td>\n",
       "      <td>1.000000</td>\n",
       "      <td>0.500000</td>\n",
       "      <td>8.285650e+08</td>\n",
       "    </tr>\n",
       "    <tr>\n",
       "      <th>25%</th>\n",
       "      <td>192.000000</td>\n",
       "      <td>1073.000000</td>\n",
       "      <td>3.000000</td>\n",
       "      <td>9.711008e+08</td>\n",
       "    </tr>\n",
       "    <tr>\n",
       "      <th>50%</th>\n",
       "      <td>383.000000</td>\n",
       "      <td>2497.000000</td>\n",
       "      <td>3.500000</td>\n",
       "      <td>1.115154e+09</td>\n",
       "    </tr>\n",
       "    <tr>\n",
       "      <th>75%</th>\n",
       "      <td>557.000000</td>\n",
       "      <td>5991.000000</td>\n",
       "      <td>4.000000</td>\n",
       "      <td>1.275496e+09</td>\n",
       "    </tr>\n",
       "    <tr>\n",
       "      <th>max</th>\n",
       "      <td>668.000000</td>\n",
       "      <td>149532.000000</td>\n",
       "      <td>5.000000</td>\n",
       "      <td>1.452405e+09</td>\n",
       "    </tr>\n",
       "  </tbody>\n",
       "</table>\n",
       "</div>"
      ],
      "text/plain": [
       "              userId        movieId         rating     timestamp\n",
       "count  105339.000000  105339.000000  105339.000000  1.053390e+05\n",
       "mean      364.924539   13381.312477       3.516850  1.130424e+09\n",
       "std       197.486905   26170.456869       1.044872  1.802660e+08\n",
       "min         1.000000       1.000000       0.500000  8.285650e+08\n",
       "25%       192.000000    1073.000000       3.000000  9.711008e+08\n",
       "50%       383.000000    2497.000000       3.500000  1.115154e+09\n",
       "75%       557.000000    5991.000000       4.000000  1.275496e+09\n",
       "max       668.000000  149532.000000       5.000000  1.452405e+09"
      ]
     },
     "execution_count": 16,
     "metadata": {},
     "output_type": "execute_result"
    }
   ],
   "source": [
    "ratings_ds.describe()"
   ]
  },
  {
   "cell_type": "code",
   "execution_count": 17,
   "id": "e2f32592-8974-49cc-8411-51d6c55c5480",
   "metadata": {
    "tags": []
   },
   "outputs": [
    {
     "data": {
      "text/plain": [
       "0                      Toy Story\n",
       "1                        Jumanji\n",
       "2               Grumpier Old Men\n",
       "3              Waiting to Exhale\n",
       "4    Father of the Bride Part II\n",
       "5                           Heat\n",
       "6                        Sabrina\n",
       "7                   Tom and Huck\n",
       "8                   Sudden Death\n",
       "9                      GoldenEye\n",
       "Name: title, dtype: object"
      ]
     },
     "execution_count": 17,
     "metadata": {},
     "output_type": "execute_result"
    }
   ],
   "source": [
    "## Removing movie year information such as 'Batman (1989)' to \"Batman\":\n",
    "movies_ds_copy = movies_ds[:] #keeping copy of the original dataset\n",
    "movies_ds['title'] = movies_ds['title'].str.replace(r'\\s*\\(\\d+\\)', '')\n",
    "movies_ds['title'].head(10)"
   ]
  },
  {
   "cell_type": "markdown",
   "id": "13413611-b570-4d5d-8590-597bdcd3f86b",
   "metadata": {
    "tags": []
   },
   "source": [
    "### Merging the two datasets to have one dataset as a whole:"
   ]
  },
  {
   "cell_type": "code",
   "execution_count": 18,
   "id": "ef1e5c53-2a94-4207-a44a-920aaaa4d920",
   "metadata": {
    "tags": []
   },
   "outputs": [
    {
     "data": {
      "text/html": [
       "<div>\n",
       "<style scoped>\n",
       "    .dataframe tbody tr th:only-of-type {\n",
       "        vertical-align: middle;\n",
       "    }\n",
       "\n",
       "    .dataframe tbody tr th {\n",
       "        vertical-align: top;\n",
       "    }\n",
       "\n",
       "    .dataframe thead th {\n",
       "        text-align: right;\n",
       "    }\n",
       "</style>\n",
       "<table border=\"1\" class=\"dataframe\">\n",
       "  <thead>\n",
       "    <tr style=\"text-align: right;\">\n",
       "      <th></th>\n",
       "      <th>movieId</th>\n",
       "      <th>title</th>\n",
       "      <th>genres</th>\n",
       "      <th>userId</th>\n",
       "      <th>rating</th>\n",
       "      <th>timestamp</th>\n",
       "    </tr>\n",
       "  </thead>\n",
       "  <tbody>\n",
       "    <tr>\n",
       "      <th>0</th>\n",
       "      <td>1</td>\n",
       "      <td>Toy Story</td>\n",
       "      <td>Adventure|Animation|Children|Comedy|Fantasy</td>\n",
       "      <td>2</td>\n",
       "      <td>5.0</td>\n",
       "      <td>859046895</td>\n",
       "    </tr>\n",
       "    <tr>\n",
       "      <th>1</th>\n",
       "      <td>1</td>\n",
       "      <td>Toy Story</td>\n",
       "      <td>Adventure|Animation|Children|Comedy|Fantasy</td>\n",
       "      <td>5</td>\n",
       "      <td>4.0</td>\n",
       "      <td>1303501039</td>\n",
       "    </tr>\n",
       "    <tr>\n",
       "      <th>2</th>\n",
       "      <td>1</td>\n",
       "      <td>Toy Story</td>\n",
       "      <td>Adventure|Animation|Children|Comedy|Fantasy</td>\n",
       "      <td>8</td>\n",
       "      <td>5.0</td>\n",
       "      <td>858610933</td>\n",
       "    </tr>\n",
       "    <tr>\n",
       "      <th>3</th>\n",
       "      <td>1</td>\n",
       "      <td>Toy Story</td>\n",
       "      <td>Adventure|Animation|Children|Comedy|Fantasy</td>\n",
       "      <td>11</td>\n",
       "      <td>4.0</td>\n",
       "      <td>850815810</td>\n",
       "    </tr>\n",
       "    <tr>\n",
       "      <th>4</th>\n",
       "      <td>1</td>\n",
       "      <td>Toy Story</td>\n",
       "      <td>Adventure|Animation|Children|Comedy|Fantasy</td>\n",
       "      <td>14</td>\n",
       "      <td>4.0</td>\n",
       "      <td>851766286</td>\n",
       "    </tr>\n",
       "    <tr>\n",
       "      <th>5</th>\n",
       "      <td>1</td>\n",
       "      <td>Toy Story</td>\n",
       "      <td>Adventure|Animation|Children|Comedy|Fantasy</td>\n",
       "      <td>17</td>\n",
       "      <td>5.0</td>\n",
       "      <td>1350206819</td>\n",
       "    </tr>\n",
       "    <tr>\n",
       "      <th>6</th>\n",
       "      <td>1</td>\n",
       "      <td>Toy Story</td>\n",
       "      <td>Adventure|Animation|Children|Comedy|Fantasy</td>\n",
       "      <td>28</td>\n",
       "      <td>3.0</td>\n",
       "      <td>884098350</td>\n",
       "    </tr>\n",
       "    <tr>\n",
       "      <th>7</th>\n",
       "      <td>1</td>\n",
       "      <td>Toy Story</td>\n",
       "      <td>Adventure|Animation|Children|Comedy|Fantasy</td>\n",
       "      <td>29</td>\n",
       "      <td>4.0</td>\n",
       "      <td>846942580</td>\n",
       "    </tr>\n",
       "    <tr>\n",
       "      <th>8</th>\n",
       "      <td>1</td>\n",
       "      <td>Toy Story</td>\n",
       "      <td>Adventure|Animation|Children|Comedy|Fantasy</td>\n",
       "      <td>30</td>\n",
       "      <td>4.5</td>\n",
       "      <td>1292690069</td>\n",
       "    </tr>\n",
       "    <tr>\n",
       "      <th>9</th>\n",
       "      <td>1</td>\n",
       "      <td>Toy Story</td>\n",
       "      <td>Adventure|Animation|Children|Comedy|Fantasy</td>\n",
       "      <td>31</td>\n",
       "      <td>4.0</td>\n",
       "      <td>832397496</td>\n",
       "    </tr>\n",
       "  </tbody>\n",
       "</table>\n",
       "</div>"
      ],
      "text/plain": [
       "   movieId      title                                       genres  userId  \\\n",
       "0        1  Toy Story  Adventure|Animation|Children|Comedy|Fantasy       2   \n",
       "1        1  Toy Story  Adventure|Animation|Children|Comedy|Fantasy       5   \n",
       "2        1  Toy Story  Adventure|Animation|Children|Comedy|Fantasy       8   \n",
       "3        1  Toy Story  Adventure|Animation|Children|Comedy|Fantasy      11   \n",
       "4        1  Toy Story  Adventure|Animation|Children|Comedy|Fantasy      14   \n",
       "5        1  Toy Story  Adventure|Animation|Children|Comedy|Fantasy      17   \n",
       "6        1  Toy Story  Adventure|Animation|Children|Comedy|Fantasy      28   \n",
       "7        1  Toy Story  Adventure|Animation|Children|Comedy|Fantasy      29   \n",
       "8        1  Toy Story  Adventure|Animation|Children|Comedy|Fantasy      30   \n",
       "9        1  Toy Story  Adventure|Animation|Children|Comedy|Fantasy      31   \n",
       "\n",
       "   rating   timestamp  \n",
       "0     5.0   859046895  \n",
       "1     4.0  1303501039  \n",
       "2     5.0   858610933  \n",
       "3     4.0   850815810  \n",
       "4     4.0   851766286  \n",
       "5     5.0  1350206819  \n",
       "6     3.0   884098350  \n",
       "7     4.0   846942580  \n",
       "8     4.5  1292690069  \n",
       "9     4.0   832397496  "
      ]
     },
     "execution_count": 18,
     "metadata": {},
     "output_type": "execute_result"
    }
   ],
   "source": [
    "merged_df = movies_ds.merge(ratings_ds, on='movieId')\n",
    "merged_df.head(10)"
   ]
  },
  {
   "cell_type": "code",
   "execution_count": 19,
   "id": "bbf6ae11-4a57-458c-9a96-a7faf2bc61ae",
   "metadata": {
    "tags": []
   },
   "outputs": [
    {
     "name": "stdout",
     "output_type": "stream",
     "text": [
      "<class 'pandas.core.frame.DataFrame'>\n",
      "Int64Index: 105339 entries, 0 to 105338\n",
      "Data columns (total 6 columns):\n",
      " #   Column     Non-Null Count   Dtype  \n",
      "---  ------     --------------   -----  \n",
      " 0   movieId    105339 non-null  int64  \n",
      " 1   title      105339 non-null  object \n",
      " 2   genres     105339 non-null  object \n",
      " 3   userId     105339 non-null  int64  \n",
      " 4   rating     105339 non-null  float64\n",
      " 5   timestamp  105339 non-null  int64  \n",
      "dtypes: float64(1), int64(3), object(2)\n",
      "memory usage: 5.6+ MB\n"
     ]
    }
   ],
   "source": [
    "merged_df.info()"
   ]
  },
  {
   "cell_type": "markdown",
   "id": "f128205c-5821-44fb-99b2-c1d47c40db21",
   "metadata": {
    "tags": []
   },
   "source": [
    "### Creating movie matrix:"
   ]
  },
  {
   "cell_type": "code",
   "execution_count": 20,
   "id": "8785ef1e-0613-4147-aa4e-330a1e461715",
   "metadata": {
    "tags": []
   },
   "outputs": [
    {
     "data": {
      "text/html": [
       "<div>\n",
       "<style scoped>\n",
       "    .dataframe tbody tr th:only-of-type {\n",
       "        vertical-align: middle;\n",
       "    }\n",
       "\n",
       "    .dataframe tbody tr th {\n",
       "        vertical-align: top;\n",
       "    }\n",
       "\n",
       "    .dataframe thead th {\n",
       "        text-align: right;\n",
       "    }\n",
       "</style>\n",
       "<table border=\"1\" class=\"dataframe\">\n",
       "  <thead>\n",
       "    <tr style=\"text-align: right;\">\n",
       "      <th>title</th>\n",
       "      <th>Days of Summer</th>\n",
       "      <th>'71</th>\n",
       "      <th>'Hellboy': The Seeds of Creation</th>\n",
       "      <th>'Round Midnight</th>\n",
       "      <th>'Til There Was You</th>\n",
       "      <th>'burbs, The</th>\n",
       "      <th>'night Mother</th>\n",
       "      <th>*batteries not included</th>\n",
       "      <th>...And Justice for All</th>\n",
       "      <th>10</th>\n",
       "      <th>...</th>\n",
       "      <th>[REC]</th>\n",
       "      <th>[REC]²</th>\n",
       "      <th>[REC]³ 3 Génesis</th>\n",
       "      <th>a/k/a Tommy Chong</th>\n",
       "      <th>eXistenZ</th>\n",
       "      <th>loudQUIETloud: A Film About the Pixies</th>\n",
       "      <th>xXx</th>\n",
       "      <th>xXx: State of the Union</th>\n",
       "      <th>¡Three Amigos!</th>\n",
       "      <th>À nous la liberté (Freedom for Us)</th>\n",
       "    </tr>\n",
       "    <tr>\n",
       "      <th>userId</th>\n",
       "      <th></th>\n",
       "      <th></th>\n",
       "      <th></th>\n",
       "      <th></th>\n",
       "      <th></th>\n",
       "      <th></th>\n",
       "      <th></th>\n",
       "      <th></th>\n",
       "      <th></th>\n",
       "      <th></th>\n",
       "      <th></th>\n",
       "      <th></th>\n",
       "      <th></th>\n",
       "      <th></th>\n",
       "      <th></th>\n",
       "      <th></th>\n",
       "      <th></th>\n",
       "      <th></th>\n",
       "      <th></th>\n",
       "      <th></th>\n",
       "      <th></th>\n",
       "    </tr>\n",
       "  </thead>\n",
       "  <tbody>\n",
       "    <tr>\n",
       "      <th>1</th>\n",
       "      <td>NaN</td>\n",
       "      <td>NaN</td>\n",
       "      <td>NaN</td>\n",
       "      <td>NaN</td>\n",
       "      <td>NaN</td>\n",
       "      <td>NaN</td>\n",
       "      <td>NaN</td>\n",
       "      <td>NaN</td>\n",
       "      <td>NaN</td>\n",
       "      <td>NaN</td>\n",
       "      <td>...</td>\n",
       "      <td>NaN</td>\n",
       "      <td>NaN</td>\n",
       "      <td>NaN</td>\n",
       "      <td>NaN</td>\n",
       "      <td>NaN</td>\n",
       "      <td>NaN</td>\n",
       "      <td>NaN</td>\n",
       "      <td>NaN</td>\n",
       "      <td>NaN</td>\n",
       "      <td>NaN</td>\n",
       "    </tr>\n",
       "    <tr>\n",
       "      <th>2</th>\n",
       "      <td>NaN</td>\n",
       "      <td>NaN</td>\n",
       "      <td>NaN</td>\n",
       "      <td>NaN</td>\n",
       "      <td>NaN</td>\n",
       "      <td>NaN</td>\n",
       "      <td>NaN</td>\n",
       "      <td>NaN</td>\n",
       "      <td>NaN</td>\n",
       "      <td>NaN</td>\n",
       "      <td>...</td>\n",
       "      <td>NaN</td>\n",
       "      <td>NaN</td>\n",
       "      <td>NaN</td>\n",
       "      <td>NaN</td>\n",
       "      <td>NaN</td>\n",
       "      <td>NaN</td>\n",
       "      <td>NaN</td>\n",
       "      <td>NaN</td>\n",
       "      <td>NaN</td>\n",
       "      <td>NaN</td>\n",
       "    </tr>\n",
       "    <tr>\n",
       "      <th>3</th>\n",
       "      <td>NaN</td>\n",
       "      <td>NaN</td>\n",
       "      <td>NaN</td>\n",
       "      <td>NaN</td>\n",
       "      <td>NaN</td>\n",
       "      <td>NaN</td>\n",
       "      <td>NaN</td>\n",
       "      <td>NaN</td>\n",
       "      <td>NaN</td>\n",
       "      <td>NaN</td>\n",
       "      <td>...</td>\n",
       "      <td>NaN</td>\n",
       "      <td>NaN</td>\n",
       "      <td>NaN</td>\n",
       "      <td>NaN</td>\n",
       "      <td>NaN</td>\n",
       "      <td>NaN</td>\n",
       "      <td>NaN</td>\n",
       "      <td>NaN</td>\n",
       "      <td>NaN</td>\n",
       "      <td>NaN</td>\n",
       "    </tr>\n",
       "    <tr>\n",
       "      <th>4</th>\n",
       "      <td>NaN</td>\n",
       "      <td>NaN</td>\n",
       "      <td>NaN</td>\n",
       "      <td>NaN</td>\n",
       "      <td>NaN</td>\n",
       "      <td>NaN</td>\n",
       "      <td>NaN</td>\n",
       "      <td>NaN</td>\n",
       "      <td>NaN</td>\n",
       "      <td>NaN</td>\n",
       "      <td>...</td>\n",
       "      <td>NaN</td>\n",
       "      <td>NaN</td>\n",
       "      <td>NaN</td>\n",
       "      <td>NaN</td>\n",
       "      <td>NaN</td>\n",
       "      <td>NaN</td>\n",
       "      <td>NaN</td>\n",
       "      <td>NaN</td>\n",
       "      <td>NaN</td>\n",
       "      <td>NaN</td>\n",
       "    </tr>\n",
       "    <tr>\n",
       "      <th>5</th>\n",
       "      <td>NaN</td>\n",
       "      <td>NaN</td>\n",
       "      <td>NaN</td>\n",
       "      <td>NaN</td>\n",
       "      <td>NaN</td>\n",
       "      <td>NaN</td>\n",
       "      <td>NaN</td>\n",
       "      <td>NaN</td>\n",
       "      <td>NaN</td>\n",
       "      <td>NaN</td>\n",
       "      <td>...</td>\n",
       "      <td>NaN</td>\n",
       "      <td>NaN</td>\n",
       "      <td>NaN</td>\n",
       "      <td>NaN</td>\n",
       "      <td>NaN</td>\n",
       "      <td>NaN</td>\n",
       "      <td>NaN</td>\n",
       "      <td>NaN</td>\n",
       "      <td>NaN</td>\n",
       "      <td>NaN</td>\n",
       "    </tr>\n",
       "  </tbody>\n",
       "</table>\n",
       "<p>5 rows × 10007 columns</p>\n",
       "</div>"
      ],
      "text/plain": [
       "title    Days of Summer  '71  'Hellboy': The Seeds of Creation  \\\n",
       "userId                                                           \n",
       "1                   NaN  NaN                               NaN   \n",
       "2                   NaN  NaN                               NaN   \n",
       "3                   NaN  NaN                               NaN   \n",
       "4                   NaN  NaN                               NaN   \n",
       "5                   NaN  NaN                               NaN   \n",
       "\n",
       "title   'Round Midnight  'Til There Was You  'burbs, The  'night Mother  \\\n",
       "userId                                                                    \n",
       "1                   NaN                 NaN          NaN            NaN   \n",
       "2                   NaN                 NaN          NaN            NaN   \n",
       "3                   NaN                 NaN          NaN            NaN   \n",
       "4                   NaN                 NaN          NaN            NaN   \n",
       "5                   NaN                 NaN          NaN            NaN   \n",
       "\n",
       "title   *batteries not included  ...And Justice for All  10  ...  [REC]  \\\n",
       "userId                                                       ...          \n",
       "1                           NaN                     NaN NaN  ...    NaN   \n",
       "2                           NaN                     NaN NaN  ...    NaN   \n",
       "3                           NaN                     NaN NaN  ...    NaN   \n",
       "4                           NaN                     NaN NaN  ...    NaN   \n",
       "5                           NaN                     NaN NaN  ...    NaN   \n",
       "\n",
       "title   [REC]²  [REC]³ 3 Génesis  a/k/a Tommy Chong  eXistenZ  \\\n",
       "userId                                                          \n",
       "1          NaN               NaN                NaN       NaN   \n",
       "2          NaN               NaN                NaN       NaN   \n",
       "3          NaN               NaN                NaN       NaN   \n",
       "4          NaN               NaN                NaN       NaN   \n",
       "5          NaN               NaN                NaN       NaN   \n",
       "\n",
       "title   loudQUIETloud: A Film About the Pixies  xXx  xXx: State of the Union  \\\n",
       "userId                                                                         \n",
       "1                                          NaN  NaN                      NaN   \n",
       "2                                          NaN  NaN                      NaN   \n",
       "3                                          NaN  NaN                      NaN   \n",
       "4                                          NaN  NaN                      NaN   \n",
       "5                                          NaN  NaN                      NaN   \n",
       "\n",
       "title   ¡Three Amigos!  À nous la liberté (Freedom for Us)  \n",
       "userId                                                      \n",
       "1                  NaN                                 NaN  \n",
       "2                  NaN                                 NaN  \n",
       "3                  NaN                                 NaN  \n",
       "4                  NaN                                 NaN  \n",
       "5                  NaN                                 NaN  \n",
       "\n",
       "[5 rows x 10007 columns]"
      ]
     },
     "execution_count": 20,
     "metadata": {},
     "output_type": "execute_result"
    }
   ],
   "source": [
    "movie_mat = merged_df.pivot_table(index='userId', columns='title', values='rating')\n",
    "movie_mat.head(5)"
   ]
  },
  {
   "cell_type": "code",
   "execution_count": 21,
   "id": "31282ca6-0f00-4830-aa12-5ac7dcdc9027",
   "metadata": {
    "tags": []
   },
   "outputs": [
    {
     "data": {
      "text/html": [
       "<div>\n",
       "<style scoped>\n",
       "    .dataframe tbody tr th:only-of-type {\n",
       "        vertical-align: middle;\n",
       "    }\n",
       "\n",
       "    .dataframe tbody tr th {\n",
       "        vertical-align: top;\n",
       "    }\n",
       "\n",
       "    .dataframe thead th {\n",
       "        text-align: right;\n",
       "    }\n",
       "</style>\n",
       "<table border=\"1\" class=\"dataframe\">\n",
       "  <thead>\n",
       "    <tr style=\"text-align: right;\">\n",
       "      <th>title</th>\n",
       "      <th>Days of Summer</th>\n",
       "      <th>'71</th>\n",
       "      <th>'Hellboy': The Seeds of Creation</th>\n",
       "      <th>'Round Midnight</th>\n",
       "      <th>'Til There Was You</th>\n",
       "      <th>'burbs, The</th>\n",
       "      <th>'night Mother</th>\n",
       "      <th>*batteries not included</th>\n",
       "      <th>...And Justice for All</th>\n",
       "      <th>10</th>\n",
       "      <th>...</th>\n",
       "      <th>[REC]</th>\n",
       "      <th>[REC]²</th>\n",
       "      <th>[REC]³ 3 Génesis</th>\n",
       "      <th>a/k/a Tommy Chong</th>\n",
       "      <th>eXistenZ</th>\n",
       "      <th>loudQUIETloud: A Film About the Pixies</th>\n",
       "      <th>xXx</th>\n",
       "      <th>xXx: State of the Union</th>\n",
       "      <th>¡Three Amigos!</th>\n",
       "      <th>À nous la liberté (Freedom for Us)</th>\n",
       "    </tr>\n",
       "    <tr>\n",
       "      <th>userId</th>\n",
       "      <th></th>\n",
       "      <th></th>\n",
       "      <th></th>\n",
       "      <th></th>\n",
       "      <th></th>\n",
       "      <th></th>\n",
       "      <th></th>\n",
       "      <th></th>\n",
       "      <th></th>\n",
       "      <th></th>\n",
       "      <th></th>\n",
       "      <th></th>\n",
       "      <th></th>\n",
       "      <th></th>\n",
       "      <th></th>\n",
       "      <th></th>\n",
       "      <th></th>\n",
       "      <th></th>\n",
       "      <th></th>\n",
       "      <th></th>\n",
       "      <th></th>\n",
       "    </tr>\n",
       "  </thead>\n",
       "  <tbody>\n",
       "    <tr>\n",
       "      <th>664</th>\n",
       "      <td>NaN</td>\n",
       "      <td>NaN</td>\n",
       "      <td>NaN</td>\n",
       "      <td>NaN</td>\n",
       "      <td>NaN</td>\n",
       "      <td>NaN</td>\n",
       "      <td>NaN</td>\n",
       "      <td>NaN</td>\n",
       "      <td>NaN</td>\n",
       "      <td>NaN</td>\n",
       "      <td>...</td>\n",
       "      <td>NaN</td>\n",
       "      <td>NaN</td>\n",
       "      <td>NaN</td>\n",
       "      <td>NaN</td>\n",
       "      <td>NaN</td>\n",
       "      <td>NaN</td>\n",
       "      <td>NaN</td>\n",
       "      <td>NaN</td>\n",
       "      <td>NaN</td>\n",
       "      <td>NaN</td>\n",
       "    </tr>\n",
       "    <tr>\n",
       "      <th>665</th>\n",
       "      <td>NaN</td>\n",
       "      <td>NaN</td>\n",
       "      <td>NaN</td>\n",
       "      <td>NaN</td>\n",
       "      <td>NaN</td>\n",
       "      <td>NaN</td>\n",
       "      <td>NaN</td>\n",
       "      <td>NaN</td>\n",
       "      <td>NaN</td>\n",
       "      <td>NaN</td>\n",
       "      <td>...</td>\n",
       "      <td>NaN</td>\n",
       "      <td>NaN</td>\n",
       "      <td>NaN</td>\n",
       "      <td>NaN</td>\n",
       "      <td>NaN</td>\n",
       "      <td>NaN</td>\n",
       "      <td>NaN</td>\n",
       "      <td>NaN</td>\n",
       "      <td>NaN</td>\n",
       "      <td>NaN</td>\n",
       "    </tr>\n",
       "    <tr>\n",
       "      <th>666</th>\n",
       "      <td>NaN</td>\n",
       "      <td>NaN</td>\n",
       "      <td>NaN</td>\n",
       "      <td>NaN</td>\n",
       "      <td>NaN</td>\n",
       "      <td>NaN</td>\n",
       "      <td>NaN</td>\n",
       "      <td>NaN</td>\n",
       "      <td>NaN</td>\n",
       "      <td>NaN</td>\n",
       "      <td>...</td>\n",
       "      <td>NaN</td>\n",
       "      <td>NaN</td>\n",
       "      <td>NaN</td>\n",
       "      <td>NaN</td>\n",
       "      <td>5.0</td>\n",
       "      <td>NaN</td>\n",
       "      <td>NaN</td>\n",
       "      <td>NaN</td>\n",
       "      <td>NaN</td>\n",
       "      <td>NaN</td>\n",
       "    </tr>\n",
       "    <tr>\n",
       "      <th>667</th>\n",
       "      <td>NaN</td>\n",
       "      <td>NaN</td>\n",
       "      <td>NaN</td>\n",
       "      <td>NaN</td>\n",
       "      <td>NaN</td>\n",
       "      <td>NaN</td>\n",
       "      <td>NaN</td>\n",
       "      <td>NaN</td>\n",
       "      <td>NaN</td>\n",
       "      <td>NaN</td>\n",
       "      <td>...</td>\n",
       "      <td>NaN</td>\n",
       "      <td>NaN</td>\n",
       "      <td>NaN</td>\n",
       "      <td>NaN</td>\n",
       "      <td>NaN</td>\n",
       "      <td>NaN</td>\n",
       "      <td>NaN</td>\n",
       "      <td>NaN</td>\n",
       "      <td>NaN</td>\n",
       "      <td>NaN</td>\n",
       "    </tr>\n",
       "    <tr>\n",
       "      <th>668</th>\n",
       "      <td>2.0</td>\n",
       "      <td>NaN</td>\n",
       "      <td>NaN</td>\n",
       "      <td>2.5</td>\n",
       "      <td>NaN</td>\n",
       "      <td>NaN</td>\n",
       "      <td>NaN</td>\n",
       "      <td>NaN</td>\n",
       "      <td>3.0</td>\n",
       "      <td>2.5</td>\n",
       "      <td>...</td>\n",
       "      <td>NaN</td>\n",
       "      <td>1.5</td>\n",
       "      <td>0.5</td>\n",
       "      <td>NaN</td>\n",
       "      <td>2.0</td>\n",
       "      <td>NaN</td>\n",
       "      <td>3.5</td>\n",
       "      <td>NaN</td>\n",
       "      <td>2.0</td>\n",
       "      <td>3.0</td>\n",
       "    </tr>\n",
       "  </tbody>\n",
       "</table>\n",
       "<p>5 rows × 10007 columns</p>\n",
       "</div>"
      ],
      "text/plain": [
       "title    Days of Summer  '71  'Hellboy': The Seeds of Creation  \\\n",
       "userId                                                           \n",
       "664                 NaN  NaN                               NaN   \n",
       "665                 NaN  NaN                               NaN   \n",
       "666                 NaN  NaN                               NaN   \n",
       "667                 NaN  NaN                               NaN   \n",
       "668                 2.0  NaN                               NaN   \n",
       "\n",
       "title   'Round Midnight  'Til There Was You  'burbs, The  'night Mother  \\\n",
       "userId                                                                    \n",
       "664                 NaN                 NaN          NaN            NaN   \n",
       "665                 NaN                 NaN          NaN            NaN   \n",
       "666                 NaN                 NaN          NaN            NaN   \n",
       "667                 NaN                 NaN          NaN            NaN   \n",
       "668                 2.5                 NaN          NaN            NaN   \n",
       "\n",
       "title   *batteries not included  ...And Justice for All   10  ...  [REC]  \\\n",
       "userId                                                        ...          \n",
       "664                         NaN                     NaN  NaN  ...    NaN   \n",
       "665                         NaN                     NaN  NaN  ...    NaN   \n",
       "666                         NaN                     NaN  NaN  ...    NaN   \n",
       "667                         NaN                     NaN  NaN  ...    NaN   \n",
       "668                         NaN                     3.0  2.5  ...    NaN   \n",
       "\n",
       "title   [REC]²  [REC]³ 3 Génesis  a/k/a Tommy Chong  eXistenZ  \\\n",
       "userId                                                          \n",
       "664        NaN               NaN                NaN       NaN   \n",
       "665        NaN               NaN                NaN       NaN   \n",
       "666        NaN               NaN                NaN       5.0   \n",
       "667        NaN               NaN                NaN       NaN   \n",
       "668        1.5               0.5                NaN       2.0   \n",
       "\n",
       "title   loudQUIETloud: A Film About the Pixies  xXx  xXx: State of the Union  \\\n",
       "userId                                                                         \n",
       "664                                        NaN  NaN                      NaN   \n",
       "665                                        NaN  NaN                      NaN   \n",
       "666                                        NaN  NaN                      NaN   \n",
       "667                                        NaN  NaN                      NaN   \n",
       "668                                        NaN  3.5                      NaN   \n",
       "\n",
       "title   ¡Three Amigos!  À nous la liberté (Freedom for Us)  \n",
       "userId                                                      \n",
       "664                NaN                                 NaN  \n",
       "665                NaN                                 NaN  \n",
       "666                NaN                                 NaN  \n",
       "667                NaN                                 NaN  \n",
       "668                2.0                                 3.0  \n",
       "\n",
       "[5 rows x 10007 columns]"
      ]
     },
     "execution_count": 21,
     "metadata": {},
     "output_type": "execute_result"
    }
   ],
   "source": [
    "movie_mat.tail()"
   ]
  },
  {
   "cell_type": "markdown",
   "id": "25903d21-d0c8-4c32-8442-ae21e56cb2d7",
   "metadata": {
    "tags": []
   },
   "source": [
    "saving it to excel file for reference purpose:\n",
    "excel = movie_mat.to_excel('movie_matrix.xlsx')Corr_batman1989"
   ]
  },
  {
   "cell_type": "markdown",
   "id": "6de2df84-1c86-43d9-8139-8477d482fe2b",
   "metadata": {
    "tags": []
   },
   "source": [
    "## <span style='color:Red'> Content-based Collaborative Recommendaton System:"
   ]
  },
  {
   "cell_type": "code",
   "execution_count": 22,
   "id": "31cbcb66-1250-467a-955a-97fd6e656edb",
   "metadata": {
    "tags": []
   },
   "outputs": [
    {
     "data": {
      "text/html": [
       "<div>\n",
       "<style scoped>\n",
       "    .dataframe tbody tr th:only-of-type {\n",
       "        vertical-align: middle;\n",
       "    }\n",
       "\n",
       "    .dataframe tbody tr th {\n",
       "        vertical-align: top;\n",
       "    }\n",
       "\n",
       "    .dataframe thead th {\n",
       "        text-align: right;\n",
       "    }\n",
       "</style>\n",
       "<table border=\"1\" class=\"dataframe\">\n",
       "  <thead>\n",
       "    <tr style=\"text-align: right;\">\n",
       "      <th></th>\n",
       "      <th>movieId</th>\n",
       "      <th>title</th>\n",
       "      <th>genres</th>\n",
       "    </tr>\n",
       "  </thead>\n",
       "  <tbody>\n",
       "    <tr>\n",
       "      <th>287</th>\n",
       "      <td>327</td>\n",
       "      <td>Tank Girl</td>\n",
       "      <td>Action|Comedy|Sci-Fi</td>\n",
       "    </tr>\n",
       "    <tr>\n",
       "      <th>1130</th>\n",
       "      <td>1391</td>\n",
       "      <td>Mars Attacks!</td>\n",
       "      <td>Action|Comedy|Sci-Fi</td>\n",
       "    </tr>\n",
       "    <tr>\n",
       "      <th>1260</th>\n",
       "      <td>1580</td>\n",
       "      <td>Men in Black (a.k.a. MIB)</td>\n",
       "      <td>Action|Comedy|Sci-Fi</td>\n",
       "    </tr>\n",
       "    <tr>\n",
       "      <th>2171</th>\n",
       "      <td>2716</td>\n",
       "      <td>Ghostbusters (a.k.a. Ghost Busters)</td>\n",
       "      <td>Action|Comedy|Sci-Fi</td>\n",
       "    </tr>\n",
       "    <tr>\n",
       "      <th>4183</th>\n",
       "      <td>5459</td>\n",
       "      <td>Men in Black II (a.k.a. MIIB) (a.k.a. MIB 2)</td>\n",
       "      <td>Action|Comedy|Sci-Fi</td>\n",
       "    </tr>\n",
       "    <tr>\n",
       "      <th>6785</th>\n",
       "      <td>39052</td>\n",
       "      <td>Star Wreck: In the Pirkinning</td>\n",
       "      <td>Action|Comedy|Sci-Fi</td>\n",
       "    </tr>\n",
       "    <tr>\n",
       "      <th>7690</th>\n",
       "      <td>59014</td>\n",
       "      <td>Superhero Movie</td>\n",
       "      <td>Action|Comedy|Sci-Fi</td>\n",
       "    </tr>\n",
       "    <tr>\n",
       "      <th>9009</th>\n",
       "      <td>87192</td>\n",
       "      <td>Attack the Block</td>\n",
       "      <td>Action|Comedy|Sci-Fi</td>\n",
       "    </tr>\n",
       "    <tr>\n",
       "      <th>9317</th>\n",
       "      <td>93805</td>\n",
       "      <td>Iron Sky</td>\n",
       "      <td>Action|Comedy|Sci-Fi</td>\n",
       "    </tr>\n",
       "    <tr>\n",
       "      <th>9713</th>\n",
       "      <td>103341</td>\n",
       "      <td>World's End, The</td>\n",
       "      <td>Action|Comedy|Sci-Fi</td>\n",
       "    </tr>\n",
       "  </tbody>\n",
       "</table>\n",
       "</div>"
      ],
      "text/plain": [
       "      movieId                                         title  \\\n",
       "287       327                                     Tank Girl   \n",
       "1130     1391                                 Mars Attacks!   \n",
       "1260     1580                     Men in Black (a.k.a. MIB)   \n",
       "2171     2716           Ghostbusters (a.k.a. Ghost Busters)   \n",
       "4183     5459  Men in Black II (a.k.a. MIIB) (a.k.a. MIB 2)   \n",
       "6785    39052                 Star Wreck: In the Pirkinning   \n",
       "7690    59014                               Superhero Movie   \n",
       "9009    87192                              Attack the Block   \n",
       "9317    93805                                      Iron Sky   \n",
       "9713   103341                              World's End, The   \n",
       "\n",
       "                    genres  \n",
       "287   Action|Comedy|Sci-Fi  \n",
       "1130  Action|Comedy|Sci-Fi  \n",
       "1260  Action|Comedy|Sci-Fi  \n",
       "2171  Action|Comedy|Sci-Fi  \n",
       "4183  Action|Comedy|Sci-Fi  \n",
       "6785  Action|Comedy|Sci-Fi  \n",
       "7690  Action|Comedy|Sci-Fi  \n",
       "9009  Action|Comedy|Sci-Fi  \n",
       "9317  Action|Comedy|Sci-Fi  \n",
       "9713  Action|Comedy|Sci-Fi  "
      ]
     },
     "execution_count": 22,
     "metadata": {},
     "output_type": "execute_result"
    }
   ],
   "source": [
    "# Displaying movies in genre \"Action|Comedy|Sci-Fi\" :\n",
    "movies_ds[movies_ds['genres']=='Action|Comedy|Sci-Fi'].head(10) #.count()"
   ]
  },
  {
   "cell_type": "markdown",
   "id": "24c2d69e",
   "metadata": {},
   "source": [
    "### Please execute the below cell once again and then put movie name from the above movie list to get the recommendations:"
   ]
  },
  {
   "cell_type": "code",
   "execution_count": 48,
   "id": "ddd2b301",
   "metadata": {},
   "outputs": [
    {
     "data": {
      "application/vnd.jupyter.widget-view+json": {
       "model_id": "1d4c316530fe42dabf61ff4c7a46727f",
       "version_major": 2,
       "version_minor": 0
      },
      "text/plain": [
       "Text(value='', description='Movie Name:', placeholder='Enter your interested movie name')"
      ]
     },
     "metadata": {},
     "output_type": "display_data"
    },
    {
     "data": {
      "application/vnd.jupyter.widget-view+json": {
       "model_id": "aea2b3ee228743d3899d8107f9abd8fb",
       "version_major": 2,
       "version_minor": 0
      },
      "text/plain": [
       "IntText(value=5, description='Num Recommends:')"
      ]
     },
     "metadata": {},
     "output_type": "display_data"
    },
    {
     "data": {
      "application/vnd.jupyter.widget-view+json": {
       "model_id": "dcccf7b8b8d54de090e11de0e3275d2b",
       "version_major": 2,
       "version_minor": 0
      },
      "text/plain": [
       "Button(button_style='success', description='Generate Recommendations', style=ButtonStyle())"
      ]
     },
     "metadata": {},
     "output_type": "display_data"
    },
    {
     "name": "stdout",
     "output_type": "stream",
     "text": [
      "Next Movie Recommendations ======>\n"
     ]
    },
    {
     "data": {
      "application/vnd.jupyter.widget-view+json": {
       "model_id": "04b0e158fe8d461aad01dd6c055d5f8d",
       "version_major": 2,
       "version_minor": 0
      },
      "text/plain": [
       "Output()"
      ]
     },
     "metadata": {},
     "output_type": "display_data"
    }
   ],
   "source": [
    "import pandas as pd\n",
    "import ipywidgets as widgets\n",
    "from IPython.display import display\n",
    "\n",
    "# Creating input widgets for movie name and number of recommendations\n",
    "movie_title_widget = widgets.Text(\n",
    "    value='',\n",
    "    placeholder='Enter your interested movie name',\n",
    "    description='Movie Name:',\n",
    "    disabled=False\n",
    ")\n",
    "\n",
    "num_recomms_widget = widgets.IntText(\n",
    "    value=5,\n",
    "    description='Num Recommends:',\n",
    "    disabled=False\n",
    ")\n",
    "\n",
    "output = widgets.Output()\n",
    "\n",
    "# Define a function to generate recommendations\n",
    "def generate_recommendations(movie_title, num_recomms):\n",
    "    Filtered_dataset = movie_mat[movie_title] #selection of movie\n",
    "    similar_to_movie_title = movie_mat.corrwith(Filtered_dataset) #applying Pearson Correlation\n",
    "    Corr_movie_title = pd.DataFrame(similar_to_movie_title, columns=['Correlation']) #correlation df\n",
    "    Corr_movie_title.dropna(inplace=True) #dropping null values\n",
    "    Corr_movie_title = Corr_movie_title.sort_values('Correlation', ascending=False) #sorting according to correlation\n",
    "\n",
    "    movie_title_ratings = pd.DataFrame(merged_df.groupby('title')['rating'].mean()) #ratings mean df\n",
    "    movie_title_ratings['No_of_ratings'] = pd.DataFrame(merged_df.groupby('title')['rating'].count()) #count df\n",
    "    movie_title_ratings.drop('rating', axis=1, inplace=True) #dropping null values again\n",
    "    Corr_movie_title = Corr_movie_title.join(movie_title_ratings['No_of_ratings']) #joining No. of ratings cols\n",
    "    \n",
    "    #Threshold of 100 ratings for a selected movie\n",
    "    Recommendations = Corr_movie_title[Corr_movie_title['No_of_ratings'] > 100].sort_values('Correlation', ascending=False)\n",
    "    return Recommendations.head(num_recomms) #requested number of recommendations\n",
    "\n",
    "# Create a button widget to trigger recommendations\n",
    "generate_button = widgets.Button(\n",
    "    description='Generate Recommendations',\n",
    "    disabled=False,\n",
    "    button_style='success',  # 'success', 'info', 'warning', 'danger' or ''\n",
    ")\n",
    "\n",
    "# Define a function to handle button click event\n",
    "def generate_button_click(b):\n",
    "    output.clear_output()\n",
    "    movie_name = movie_title_widget.value\n",
    "    num_recommendations = num_recomms_widget.value\n",
    "    with output:\n",
    "        recommendations = generate_recommendations(movie_name, num_recommendations)\n",
    "        display(recommendations)\n",
    "\n",
    "generate_button.on_click(generate_button_click)\n",
    "\n",
    "# Display the widgets\n",
    "display(movie_title_widget)\n",
    "display(num_recomms_widget)\n",
    "display(generate_button)\n",
    "print(\"Next Movie Recommendations ======>\")\n",
    "display(output)"
   ]
  },
  {
   "cell_type": "markdown",
   "id": "86d2a92a",
   "metadata": {
    "tags": []
   },
   "source": [
    "#movies_ds[movies_ds['title']=='Spider-Man']\n",
    "    #movies_ds[movies_ds['title']=='Men in Black II (a.k.a. MIIB) (a.k.a. MIB 2)']\n",
    "    #movies_ds[movies_ds['title']=='Toy Story 2']\n",
    "    #movies_ds[movies_ds['title']=='Aladdin']\n",
    "    #movies_ds[movies_ds['title']=='Mask, The']\n",
    "#movies_ds[movies_ds['title']=='Dark Knight, The']    "
   ]
  },
  {
   "cell_type": "markdown",
   "id": "80e16a9b-dc14-41a8-a6f2-dc922f9853ad",
   "metadata": {
    "tags": []
   },
   "source": [
    "## <span style='color:Red'> Popularity-Based Colloborative Recommendation System:"
   ]
  },
  {
   "cell_type": "code",
   "execution_count": 24,
   "id": "2642a733-4ba5-494c-bbcb-e71df6f4e9e3",
   "metadata": {
    "tags": []
   },
   "outputs": [
    {
     "name": "stdout",
     "output_type": "stream",
     "text": [
      "['Adventure|Animation|Children|Comedy|Fantasy', 'Adventure|Children|Fantasy', 'Comedy|Romance', 'Comedy|Drama|Romance', 'Comedy', 'Action|Crime|Thriller', 'Adventure|Children', 'Action', 'Action|Adventure|Thriller', 'Comedy|Horror', 'Adventure|Animation|Children', 'Drama', 'Action|Adventure|Romance', 'Crime|Drama', 'Drama|Romance', 'Action|Comedy|Crime|Drama|Thriller', 'Comedy|Crime|Thriller', 'Crime|Drama|Horror|Mystery|Thriller', 'Drama|Sci-Fi', 'Children|Drama', 'Adventure|Drama|Fantasy|Mystery|Sci-Fi', 'Mystery|Sci-Fi|Thriller', 'Adventure|Romance|IMAX', 'Drama|War', 'Action|Crime|Drama', 'Action|Adventure|Fantasy', 'Comedy|Drama|Thriller', 'Mystery|Thriller', 'Animation|Children|Drama|Musical|Romance', 'Crime|Mystery|Thriller']\n"
     ]
    }
   ],
   "source": [
    "# Viewing different genres present in the dataset:\n",
    "genres = list(movies_ds['genres'].unique())\n",
    "print(genres[:30])"
   ]
  },
  {
   "cell_type": "code",
   "execution_count": 25,
   "id": "ae950847-34a6-4af9-8993-52da405dfac4",
   "metadata": {
    "tags": []
   },
   "outputs": [
    {
     "data": {
      "text/plain": [
       "movieId    10329\n",
       "title      10011\n",
       "genres       938\n",
       "dtype: int64"
      ]
     },
     "execution_count": 25,
     "metadata": {},
     "output_type": "execute_result"
    }
   ],
   "source": [
    "movies_ds.nunique()"
   ]
  },
  {
   "cell_type": "markdown",
   "id": "75882b27-754a-41e6-8fb3-86732554144c",
   "metadata": {
    "tags": []
   },
   "source": [
    "Checking for selected genre's movies before-hand:"
   ]
  },
  {
   "cell_type": "markdown",
   "id": "897004cd",
   "metadata": {
    "tags": []
   },
   "source": [
    "Genre_input = input('Enter your genre:').strip() #strip to remove any leading and trailing whitespaces"
   ]
  },
  {
   "cell_type": "markdown",
   "id": "2de537a9",
   "metadata": {
    "tags": []
   },
   "source": [
    "#Viewing or displaying inputted genre type of movies:\n",
    "movies_ds[movies_ds['genres'].str.contains(Genre_input)].head(10)"
   ]
  },
  {
   "cell_type": "markdown",
   "id": "9429f917-0874-4c03-abe2-4875b69a9f04",
   "metadata": {
    "tags": []
   },
   "source": [
    "### Merging two dfs using left join method:"
   ]
  },
  {
   "cell_type": "code",
   "execution_count": 26,
   "id": "587ead24-d035-43c6-974a-3edb1a8bc2ab",
   "metadata": {
    "tags": []
   },
   "outputs": [
    {
     "data": {
      "text/html": [
       "<div>\n",
       "<style scoped>\n",
       "    .dataframe tbody tr th:only-of-type {\n",
       "        vertical-align: middle;\n",
       "    }\n",
       "\n",
       "    .dataframe tbody tr th {\n",
       "        vertical-align: top;\n",
       "    }\n",
       "\n",
       "    .dataframe thead th {\n",
       "        text-align: right;\n",
       "    }\n",
       "</style>\n",
       "<table border=\"1\" class=\"dataframe\">\n",
       "  <thead>\n",
       "    <tr style=\"text-align: right;\">\n",
       "      <th></th>\n",
       "      <th>userId</th>\n",
       "      <th>movieId</th>\n",
       "      <th>rating</th>\n",
       "      <th>timestamp</th>\n",
       "      <th>title</th>\n",
       "      <th>genres</th>\n",
       "    </tr>\n",
       "  </thead>\n",
       "  <tbody>\n",
       "    <tr>\n",
       "      <th>0</th>\n",
       "      <td>1</td>\n",
       "      <td>16</td>\n",
       "      <td>4.0</td>\n",
       "      <td>1217897793</td>\n",
       "      <td>Casino</td>\n",
       "      <td>Crime|Drama</td>\n",
       "    </tr>\n",
       "    <tr>\n",
       "      <th>1</th>\n",
       "      <td>1</td>\n",
       "      <td>24</td>\n",
       "      <td>1.5</td>\n",
       "      <td>1217895807</td>\n",
       "      <td>Powder</td>\n",
       "      <td>Drama|Sci-Fi</td>\n",
       "    </tr>\n",
       "  </tbody>\n",
       "</table>\n",
       "</div>"
      ],
      "text/plain": [
       "   userId  movieId  rating   timestamp   title        genres\n",
       "0       1       16     4.0  1217897793  Casino   Crime|Drama\n",
       "1       1       24     1.5  1217895807  Powder  Drama|Sci-Fi"
      ]
     },
     "execution_count": 26,
     "metadata": {},
     "output_type": "execute_result"
    }
   ],
   "source": [
    "merged_df1 = pd.merge(ratings_ds, movies_ds, on='movieId', how='left')\n",
    "merged_df1.head(2)"
   ]
  },
  {
   "cell_type": "code",
   "execution_count": 27,
   "id": "602e394b-0eb8-4fd2-99c9-091087bec707",
   "metadata": {
    "tags": []
   },
   "outputs": [
    {
     "data": {
      "text/plain": [
       "(105339, 6)"
      ]
     },
     "execution_count": 27,
     "metadata": {},
     "output_type": "execute_result"
    }
   ],
   "source": [
    "merged_df1.shape"
   ]
  },
  {
   "cell_type": "code",
   "execution_count": 28,
   "id": "6d2bb511-f430-4bd1-91f1-18192c8d2db5",
   "metadata": {
    "tags": []
   },
   "outputs": [
    {
     "data": {
      "text/html": [
       "<div>\n",
       "<style scoped>\n",
       "    .dataframe tbody tr th:only-of-type {\n",
       "        vertical-align: middle;\n",
       "    }\n",
       "\n",
       "    .dataframe tbody tr th {\n",
       "        vertical-align: top;\n",
       "    }\n",
       "\n",
       "    .dataframe thead th {\n",
       "        text-align: right;\n",
       "    }\n",
       "</style>\n",
       "<table border=\"1\" class=\"dataframe\">\n",
       "  <thead>\n",
       "    <tr style=\"text-align: right;\">\n",
       "      <th></th>\n",
       "      <th>title</th>\n",
       "      <th>genres</th>\n",
       "      <th>rating</th>\n",
       "    </tr>\n",
       "  </thead>\n",
       "  <tbody>\n",
       "    <tr>\n",
       "      <th>0</th>\n",
       "      <td>Casino</td>\n",
       "      <td>Crime|Drama</td>\n",
       "      <td>4.0</td>\n",
       "    </tr>\n",
       "    <tr>\n",
       "      <th>1</th>\n",
       "      <td>Powder</td>\n",
       "      <td>Drama|Sci-Fi</td>\n",
       "      <td>1.5</td>\n",
       "    </tr>\n",
       "  </tbody>\n",
       "</table>\n",
       "</div>"
      ],
      "text/plain": [
       "    title        genres  rating\n",
       "0  Casino   Crime|Drama     4.0\n",
       "1  Powder  Drama|Sci-Fi     1.5"
      ]
     },
     "execution_count": 28,
     "metadata": {},
     "output_type": "execute_result"
    }
   ],
   "source": [
    "merged_df1_copy = merged_df1[:]\n",
    "merged_df1 = merged_df1[['title', 'genres','rating']] #taking only requied columns\n",
    "merged_df1.head(2)"
   ]
  },
  {
   "cell_type": "markdown",
   "id": "c1bc4b58",
   "metadata": {},
   "source": [
    "### Here, also execute the below cell once again to get the recommendations:"
   ]
  },
  {
   "cell_type": "code",
   "execution_count": 49,
   "id": "9c5f6b2a",
   "metadata": {},
   "outputs": [
    {
     "data": {
      "application/vnd.jupyter.widget-view+json": {
       "model_id": "fbe85015399d45c8884e236655c1d5d9",
       "version_major": 2,
       "version_minor": 0
      },
      "text/plain": [
       "Text(value='', description='Genre:', placeholder='Enter your favorite genre')"
      ]
     },
     "metadata": {},
     "output_type": "display_data"
    },
    {
     "data": {
      "application/vnd.jupyter.widget-view+json": {
       "model_id": "3fc2edd76b8548ed8fb7db38c01cd530",
       "version_major": 2,
       "version_minor": 0
      },
      "text/plain": [
       "IntText(value=100, description='Min Reviews:')"
      ]
     },
     "metadata": {},
     "output_type": "display_data"
    },
    {
     "data": {
      "application/vnd.jupyter.widget-view+json": {
       "model_id": "f71f8b3b48e642c6a17e252092f68d29",
       "version_major": 2,
       "version_minor": 0
      },
      "text/plain": [
       "IntText(value=5, description='Num of Recommends:')"
      ]
     },
     "metadata": {},
     "output_type": "display_data"
    },
    {
     "data": {
      "application/vnd.jupyter.widget-view+json": {
       "model_id": "e9f719b3c7a545548da2451d2c385b50",
       "version_major": 2,
       "version_minor": 0
      },
      "text/plain": [
       "Button(button_style='success', description='Generate Recommendations', style=ButtonStyle())"
      ]
     },
     "metadata": {},
     "output_type": "display_data"
    },
    {
     "name": "stdout",
     "output_type": "stream",
     "text": [
      "Your watch list for the selected genre ======>\n"
     ]
    },
    {
     "data": {
      "application/vnd.jupyter.widget-view+json": {
       "model_id": "ad2cfa418a6440f0afdea6a0cd96fc56",
       "version_major": 2,
       "version_minor": 0
      },
      "text/plain": [
       "Output()"
      ]
     },
     "metadata": {},
     "output_type": "display_data"
    }
   ],
   "source": [
    "import pandas as pd\n",
    "import ipywidgets as widgets\n",
    "from IPython.display import display\n",
    "\n",
    "# Creating input widgets for genre, minimum reviews, and number of recommendations\n",
    "genre_widget = widgets.Text(\n",
    "    value='',\n",
    "    placeholder='Enter your favorite genre',\n",
    "    description='Genre:',\n",
    "    disabled=False\n",
    ")\n",
    "\n",
    "mini_thresh_widget = widgets.IntText(\n",
    "    value=100,\n",
    "    description='Min Reviews:',\n",
    "    disabled=False\n",
    ")\n",
    "\n",
    "num_recommends_widget = widgets.IntText(\n",
    "    value=5,\n",
    "    description='Num of Recommends:',\n",
    "    disabled=False\n",
    ")\n",
    "\n",
    "# Define a function to generate genre-wise recommendations\n",
    "def generate_genre_recommendations(genre, mini_thresh, num_recommends): #keeping genres column to make out all movies present in\n",
    "    moviedf = merged_df1.groupby(['title', 'genres']).agg({'rating': ['mean', 'count']}) #selected genre\n",
    "    moviedf.columns = ['Avg Rating', 'Num Reviews'] #renaming column names\n",
    "    moviedf = moviedf.reset_index() #reseting index to again create columns from indexes\n",
    "    moviedf = moviedf.sort_values('Num Reviews', ascending=False) #sorting according to Num Reviews\n",
    "    \n",
    "    selection_genre = moviedf[moviedf['genres'].str.contains(genre)] #validation to contain the genre type\n",
    "    minimum_ratings = selection_genre[selection_genre['Num Reviews'] > mini_thresh] #filtering according to minimum threshold\n",
    "    return minimum_ratings.head(num_recommends) #displaying according to requested number of recommendations\n",
    "\n",
    "# Creating a button widget to trigger recommendations\n",
    "generate_button = widgets.Button(\n",
    "    description='Generate Recommendations',\n",
    "    disabled=False,\n",
    "    button_style='success'  # 'success', 'info', 'warning', 'danger' or ''\n",
    ")\n",
    "\n",
    "output = widgets.Output() #to return output\n",
    "\n",
    "# Defining a function to handle button click event\n",
    "def generate_button_click(b):\n",
    "    output.clear_output() #clearing output\n",
    "    genre = genre_widget.value.strip() #strip to remove leading and trailing spaces\n",
    "    mini_thresh = mini_thresh_widget.value\n",
    "    num_recommends = num_recommends_widget.value\n",
    "    with output:\n",
    "        recommendations = generate_genre_recommendations(genre, mini_thresh, num_recommends) #1st function calling\n",
    "        display(recommendations)\n",
    "\n",
    "generate_button.on_click(generate_button_click) #2nd function calling\n",
    "\n",
    "# Display the widgets\n",
    "display(genre_widget)\n",
    "display(mini_thresh_widget)\n",
    "display(num_recommends_widget)\n",
    "display(generate_button)\n",
    "print(\"Your watch list for the selected genre ======>\")\n",
    "display(output)"
   ]
  },
  {
   "cell_type": "markdown",
   "id": "ac4c2ee5-3655-42e5-9147-cba892112b6d",
   "metadata": {
    "tags": []
   },
   "source": [
    "## <span style='color:Red'> User_based Colloborative Recommendation System using KNN algorithm:"
   ]
  },
  {
   "cell_type": "code",
   "execution_count": 30,
   "id": "a5f40956-1e04-4d7c-8897-3e9353be7e99",
   "metadata": {},
   "outputs": [
    {
     "data": {
      "text/html": [
       "<div>\n",
       "<style scoped>\n",
       "    .dataframe tbody tr th:only-of-type {\n",
       "        vertical-align: middle;\n",
       "    }\n",
       "\n",
       "    .dataframe tbody tr th {\n",
       "        vertical-align: top;\n",
       "    }\n",
       "\n",
       "    .dataframe thead th {\n",
       "        text-align: right;\n",
       "    }\n",
       "</style>\n",
       "<table border=\"1\" class=\"dataframe\">\n",
       "  <thead>\n",
       "    <tr style=\"text-align: right;\">\n",
       "      <th></th>\n",
       "      <th>movieId</th>\n",
       "      <th>title</th>\n",
       "      <th>genres</th>\n",
       "      <th>userId</th>\n",
       "      <th>rating</th>\n",
       "      <th>timestamp</th>\n",
       "    </tr>\n",
       "  </thead>\n",
       "  <tbody>\n",
       "    <tr>\n",
       "      <th>0</th>\n",
       "      <td>1</td>\n",
       "      <td>Toy Story</td>\n",
       "      <td>Adventure|Animation|Children|Comedy|Fantasy</td>\n",
       "      <td>2</td>\n",
       "      <td>5.0</td>\n",
       "      <td>859046895</td>\n",
       "    </tr>\n",
       "    <tr>\n",
       "      <th>1</th>\n",
       "      <td>1</td>\n",
       "      <td>Toy Story</td>\n",
       "      <td>Adventure|Animation|Children|Comedy|Fantasy</td>\n",
       "      <td>5</td>\n",
       "      <td>4.0</td>\n",
       "      <td>1303501039</td>\n",
       "    </tr>\n",
       "  </tbody>\n",
       "</table>\n",
       "</div>"
      ],
      "text/plain": [
       "   movieId      title                                       genres  userId  \\\n",
       "0        1  Toy Story  Adventure|Animation|Children|Comedy|Fantasy       2   \n",
       "1        1  Toy Story  Adventure|Animation|Children|Comedy|Fantasy       5   \n",
       "\n",
       "   rating   timestamp  \n",
       "0     5.0   859046895  \n",
       "1     4.0  1303501039  "
      ]
     },
     "execution_count": 30,
     "metadata": {},
     "output_type": "execute_result"
    }
   ],
   "source": [
    "merged_df.head(2)"
   ]
  },
  {
   "cell_type": "code",
   "execution_count": 31,
   "id": "cb2d5dc2-fd4b-46d1-9983-dabafa863e2f",
   "metadata": {
    "tags": []
   },
   "outputs": [
    {
     "name": "stdout",
     "output_type": "stream",
     "text": [
      "<class 'pandas.core.frame.DataFrame'>\n",
      "Int64Index: 105339 entries, 0 to 105338\n",
      "Data columns (total 6 columns):\n",
      " #   Column     Non-Null Count   Dtype  \n",
      "---  ------     --------------   -----  \n",
      " 0   movieId    105339 non-null  int64  \n",
      " 1   title      105339 non-null  object \n",
      " 2   genres     105339 non-null  object \n",
      " 3   userId     105339 non-null  int64  \n",
      " 4   rating     105339 non-null  float64\n",
      " 5   timestamp  105339 non-null  int64  \n",
      "dtypes: float64(1), int64(3), object(2)\n",
      "memory usage: 5.6+ MB\n"
     ]
    }
   ],
   "source": [
    "merged_df.info()"
   ]
  },
  {
   "cell_type": "code",
   "execution_count": 32,
   "id": "6579a179-16a2-48b3-a8d0-f50c5309cfa4",
   "metadata": {
    "tags": []
   },
   "outputs": [
    {
     "data": {
      "text/html": [
       "<div>\n",
       "<style scoped>\n",
       "    .dataframe tbody tr th:only-of-type {\n",
       "        vertical-align: middle;\n",
       "    }\n",
       "\n",
       "    .dataframe tbody tr th {\n",
       "        vertical-align: top;\n",
       "    }\n",
       "\n",
       "    .dataframe thead th {\n",
       "        text-align: right;\n",
       "    }\n",
       "</style>\n",
       "<table border=\"1\" class=\"dataframe\">\n",
       "  <thead>\n",
       "    <tr style=\"text-align: right;\">\n",
       "      <th>userId</th>\n",
       "      <th>1</th>\n",
       "      <th>2</th>\n",
       "      <th>3</th>\n",
       "      <th>4</th>\n",
       "      <th>5</th>\n",
       "      <th>6</th>\n",
       "      <th>7</th>\n",
       "      <th>8</th>\n",
       "      <th>9</th>\n",
       "      <th>10</th>\n",
       "      <th>...</th>\n",
       "      <th>659</th>\n",
       "      <th>660</th>\n",
       "      <th>661</th>\n",
       "      <th>662</th>\n",
       "      <th>663</th>\n",
       "      <th>664</th>\n",
       "      <th>665</th>\n",
       "      <th>666</th>\n",
       "      <th>667</th>\n",
       "      <th>668</th>\n",
       "    </tr>\n",
       "    <tr>\n",
       "      <th>movieId</th>\n",
       "      <th></th>\n",
       "      <th></th>\n",
       "      <th></th>\n",
       "      <th></th>\n",
       "      <th></th>\n",
       "      <th></th>\n",
       "      <th></th>\n",
       "      <th></th>\n",
       "      <th></th>\n",
       "      <th></th>\n",
       "      <th></th>\n",
       "      <th></th>\n",
       "      <th></th>\n",
       "      <th></th>\n",
       "      <th></th>\n",
       "      <th></th>\n",
       "      <th></th>\n",
       "      <th></th>\n",
       "      <th></th>\n",
       "      <th></th>\n",
       "      <th></th>\n",
       "    </tr>\n",
       "  </thead>\n",
       "  <tbody>\n",
       "    <tr>\n",
       "      <th>1</th>\n",
       "      <td>0.0</td>\n",
       "      <td>5.0</td>\n",
       "      <td>0.0</td>\n",
       "      <td>0.0</td>\n",
       "      <td>4.0</td>\n",
       "      <td>0.0</td>\n",
       "      <td>0.0</td>\n",
       "      <td>5.0</td>\n",
       "      <td>0.0</td>\n",
       "      <td>0.0</td>\n",
       "      <td>...</td>\n",
       "      <td>0.0</td>\n",
       "      <td>0.0</td>\n",
       "      <td>4.0</td>\n",
       "      <td>5.0</td>\n",
       "      <td>3.0</td>\n",
       "      <td>0.0</td>\n",
       "      <td>0.0</td>\n",
       "      <td>0.0</td>\n",
       "      <td>0.0</td>\n",
       "      <td>3.0</td>\n",
       "    </tr>\n",
       "    <tr>\n",
       "      <th>2</th>\n",
       "      <td>0.0</td>\n",
       "      <td>0.0</td>\n",
       "      <td>0.0</td>\n",
       "      <td>0.0</td>\n",
       "      <td>0.0</td>\n",
       "      <td>0.0</td>\n",
       "      <td>0.0</td>\n",
       "      <td>0.0</td>\n",
       "      <td>0.0</td>\n",
       "      <td>0.0</td>\n",
       "      <td>...</td>\n",
       "      <td>0.0</td>\n",
       "      <td>0.0</td>\n",
       "      <td>0.0</td>\n",
       "      <td>5.0</td>\n",
       "      <td>0.0</td>\n",
       "      <td>0.0</td>\n",
       "      <td>0.0</td>\n",
       "      <td>0.0</td>\n",
       "      <td>0.0</td>\n",
       "      <td>3.0</td>\n",
       "    </tr>\n",
       "    <tr>\n",
       "      <th>3</th>\n",
       "      <td>0.0</td>\n",
       "      <td>2.0</td>\n",
       "      <td>0.0</td>\n",
       "      <td>0.0</td>\n",
       "      <td>0.0</td>\n",
       "      <td>0.0</td>\n",
       "      <td>0.0</td>\n",
       "      <td>4.0</td>\n",
       "      <td>3.0</td>\n",
       "      <td>0.0</td>\n",
       "      <td>...</td>\n",
       "      <td>0.0</td>\n",
       "      <td>0.0</td>\n",
       "      <td>3.0</td>\n",
       "      <td>0.0</td>\n",
       "      <td>0.0</td>\n",
       "      <td>0.0</td>\n",
       "      <td>0.0</td>\n",
       "      <td>0.0</td>\n",
       "      <td>0.0</td>\n",
       "      <td>2.0</td>\n",
       "    </tr>\n",
       "    <tr>\n",
       "      <th>4</th>\n",
       "      <td>0.0</td>\n",
       "      <td>0.0</td>\n",
       "      <td>0.0</td>\n",
       "      <td>0.0</td>\n",
       "      <td>0.0</td>\n",
       "      <td>0.0</td>\n",
       "      <td>0.0</td>\n",
       "      <td>0.0</td>\n",
       "      <td>0.0</td>\n",
       "      <td>0.0</td>\n",
       "      <td>...</td>\n",
       "      <td>0.0</td>\n",
       "      <td>0.0</td>\n",
       "      <td>0.0</td>\n",
       "      <td>0.0</td>\n",
       "      <td>0.0</td>\n",
       "      <td>0.0</td>\n",
       "      <td>0.0</td>\n",
       "      <td>0.0</td>\n",
       "      <td>0.0</td>\n",
       "      <td>0.0</td>\n",
       "    </tr>\n",
       "    <tr>\n",
       "      <th>5</th>\n",
       "      <td>0.0</td>\n",
       "      <td>3.0</td>\n",
       "      <td>3.0</td>\n",
       "      <td>0.0</td>\n",
       "      <td>0.0</td>\n",
       "      <td>0.0</td>\n",
       "      <td>0.0</td>\n",
       "      <td>3.0</td>\n",
       "      <td>0.0</td>\n",
       "      <td>0.0</td>\n",
       "      <td>...</td>\n",
       "      <td>0.0</td>\n",
       "      <td>0.0</td>\n",
       "      <td>3.0</td>\n",
       "      <td>0.0</td>\n",
       "      <td>0.0</td>\n",
       "      <td>0.0</td>\n",
       "      <td>0.0</td>\n",
       "      <td>0.0</td>\n",
       "      <td>0.0</td>\n",
       "      <td>2.5</td>\n",
       "    </tr>\n",
       "  </tbody>\n",
       "</table>\n",
       "<p>5 rows × 668 columns</p>\n",
       "</div>"
      ],
      "text/plain": [
       "userId   1    2    3    4    5    6    7    8    9    10   ...  659  660  661  \\\n",
       "movieId                                                    ...                  \n",
       "1        0.0  5.0  0.0  0.0  4.0  0.0  0.0  5.0  0.0  0.0  ...  0.0  0.0  4.0   \n",
       "2        0.0  0.0  0.0  0.0  0.0  0.0  0.0  0.0  0.0  0.0  ...  0.0  0.0  0.0   \n",
       "3        0.0  2.0  0.0  0.0  0.0  0.0  0.0  4.0  3.0  0.0  ...  0.0  0.0  3.0   \n",
       "4        0.0  0.0  0.0  0.0  0.0  0.0  0.0  0.0  0.0  0.0  ...  0.0  0.0  0.0   \n",
       "5        0.0  3.0  3.0  0.0  0.0  0.0  0.0  3.0  0.0  0.0  ...  0.0  0.0  3.0   \n",
       "\n",
       "userId   662  663  664  665  666  667  668  \n",
       "movieId                                     \n",
       "1        5.0  3.0  0.0  0.0  0.0  0.0  3.0  \n",
       "2        5.0  0.0  0.0  0.0  0.0  0.0  3.0  \n",
       "3        0.0  0.0  0.0  0.0  0.0  0.0  2.0  \n",
       "4        0.0  0.0  0.0  0.0  0.0  0.0  0.0  \n",
       "5        0.0  0.0  0.0  0.0  0.0  0.0  2.5  \n",
       "\n",
       "[5 rows x 668 columns]"
      ]
     },
     "execution_count": 32,
     "metadata": {},
     "output_type": "execute_result"
    }
   ],
   "source": [
    "# Creating movie matrix for colloborative filtering recommendation system:\n",
    "movies_matrics = merged_df.pivot_table(index='movieId', columns='userId', values='rating')\n",
    "movies_matrics.fillna(0, inplace=True)\n",
    "movies_matrics.head()"
   ]
  },
  {
   "cell_type": "code",
   "execution_count": 33,
   "id": "3eaf96c2-db58-456f-a498-705820c47f74",
   "metadata": {
    "tags": []
   },
   "outputs": [
    {
     "data": {
      "text/plain": [
       "0.0    10212\n",
       "4.0       26\n",
       "4.5       25\n",
       "3.5       21\n",
       "3.0       12\n",
       "5.0       12\n",
       "1.5        6\n",
       "0.5        6\n",
       "2.5        4\n",
       "2.0        1\n",
       "Name: 1, dtype: int64"
      ]
     },
     "execution_count": 33,
     "metadata": {},
     "output_type": "execute_result"
    }
   ],
   "source": [
    "#userId = 1 ratings distribution:\n",
    "movies_matrics[1].value_counts()"
   ]
  },
  {
   "cell_type": "code",
   "execution_count": 34,
   "id": "dc250995-29fa-42bd-b12e-40429aab4efa",
   "metadata": {
    "tags": []
   },
   "outputs": [
    {
     "data": {
      "text/plain": [
       "(10325, 668)"
      ]
     },
     "execution_count": 34,
     "metadata": {},
     "output_type": "execute_result"
    }
   ],
   "source": [
    "movies_matrics.shape"
   ]
  },
  {
   "cell_type": "markdown",
   "id": "b2791ec7-3c26-4031-b8ff-70398bbaa4f8",
   "metadata": {
    "tags": []
   },
   "source": [
    "<B> 1. To qualify a movie, a minimum of 10 users should have voted a movie. \n",
    "<br><B> 2. To qualify a user, a minimum of 50 movies should have voted by the user."
   ]
  },
  {
   "cell_type": "code",
   "execution_count": 35,
   "id": "f8468770-03ac-45fa-bf49-3d8781b748e2",
   "metadata": {
    "tags": []
   },
   "outputs": [],
   "source": [
    "no_user_voted = ratings_ds.groupby('movieId')['rating'].agg('count')\n",
    "no_movies_voted = ratings_ds.groupby('userId')['rating'].agg('count')"
   ]
  },
  {
   "cell_type": "code",
   "execution_count": 36,
   "id": "ea34b45c-8e96-4013-b2e0-60f1edb6d827",
   "metadata": {
    "tags": []
   },
   "outputs": [
    {
     "data": {
      "text/plain": [
       "((10325,), (668,))"
      ]
     },
     "execution_count": 36,
     "metadata": {},
     "output_type": "execute_result"
    }
   ],
   "source": [
    "no_user_voted.shape, no_movies_voted.shape"
   ]
  },
  {
   "cell_type": "markdown",
   "id": "d90ff37d-831c-4d23-9caf-241b9025c8de",
   "metadata": {
    "tags": []
   },
   "source": [
    "### Visualization of constraints decided:"
   ]
  },
  {
   "cell_type": "code",
   "execution_count": 37,
   "id": "f1a4c525-1bcb-463a-933c-bc23888379c6",
   "metadata": {
    "tags": []
   },
   "outputs": [
    {
     "data": {
      "image/png": "[encoded data removed]",
      "text/plain": [
       "<Figure size 1200x400 with 1 Axes>"
      ]
     },
     "metadata": {},
     "output_type": "display_data"
    }
   ],
   "source": [
    "f,ax = plt.subplots(1,1,figsize=(12,4))\n",
    "# ratings['rating'].plot(kind='hist')\n",
    "plt.scatter(no_user_voted.index,no_user_voted,color='mediumseagreen')\n",
    "plt.axhline(y=10,color='r') #threshold of 10 users ratings\n",
    "plt.xlabel('MovieId')\n",
    "plt.ylabel('No. of users voted')\n",
    "plt.show()"
   ]
  },
  {
   "cell_type": "code",
   "execution_count": 38,
   "id": "12fb92bf-0448-4b9f-a2d5-70eb74ea4d7e",
   "metadata": {
    "tags": []
   },
   "outputs": [
    {
     "data": {
      "text/html": [
       "<div>\n",
       "<style scoped>\n",
       "    .dataframe tbody tr th:only-of-type {\n",
       "        vertical-align: middle;\n",
       "    }\n",
       "\n",
       "    .dataframe tbody tr th {\n",
       "        vertical-align: top;\n",
       "    }\n",
       "\n",
       "    .dataframe thead th {\n",
       "        text-align: right;\n",
       "    }\n",
       "</style>\n",
       "<table border=\"1\" class=\"dataframe\">\n",
       "  <thead>\n",
       "    <tr style=\"text-align: right;\">\n",
       "      <th>userId</th>\n",
       "      <th>1</th>\n",
       "      <th>2</th>\n",
       "      <th>3</th>\n",
       "      <th>4</th>\n",
       "      <th>5</th>\n",
       "      <th>6</th>\n",
       "      <th>7</th>\n",
       "      <th>8</th>\n",
       "      <th>9</th>\n",
       "      <th>10</th>\n",
       "      <th>...</th>\n",
       "      <th>659</th>\n",
       "      <th>660</th>\n",
       "      <th>661</th>\n",
       "      <th>662</th>\n",
       "      <th>663</th>\n",
       "      <th>664</th>\n",
       "      <th>665</th>\n",
       "      <th>666</th>\n",
       "      <th>667</th>\n",
       "      <th>668</th>\n",
       "    </tr>\n",
       "    <tr>\n",
       "      <th>movieId</th>\n",
       "      <th></th>\n",
       "      <th></th>\n",
       "      <th></th>\n",
       "      <th></th>\n",
       "      <th></th>\n",
       "      <th></th>\n",
       "      <th></th>\n",
       "      <th></th>\n",
       "      <th></th>\n",
       "      <th></th>\n",
       "      <th></th>\n",
       "      <th></th>\n",
       "      <th></th>\n",
       "      <th></th>\n",
       "      <th></th>\n",
       "      <th></th>\n",
       "      <th></th>\n",
       "      <th></th>\n",
       "      <th></th>\n",
       "      <th></th>\n",
       "      <th></th>\n",
       "    </tr>\n",
       "  </thead>\n",
       "  <tbody>\n",
       "    <tr>\n",
       "      <th>1</th>\n",
       "      <td>0.0</td>\n",
       "      <td>5.0</td>\n",
       "      <td>0.0</td>\n",
       "      <td>0.0</td>\n",
       "      <td>4.0</td>\n",
       "      <td>0.0</td>\n",
       "      <td>0.0</td>\n",
       "      <td>5.0</td>\n",
       "      <td>0.0</td>\n",
       "      <td>0.0</td>\n",
       "      <td>...</td>\n",
       "      <td>0.0</td>\n",
       "      <td>0.0</td>\n",
       "      <td>4.0</td>\n",
       "      <td>5.0</td>\n",
       "      <td>3.0</td>\n",
       "      <td>0.0</td>\n",
       "      <td>0.0</td>\n",
       "      <td>0.0</td>\n",
       "      <td>0.0</td>\n",
       "      <td>3.0</td>\n",
       "    </tr>\n",
       "    <tr>\n",
       "      <th>2</th>\n",
       "      <td>0.0</td>\n",
       "      <td>0.0</td>\n",
       "      <td>0.0</td>\n",
       "      <td>0.0</td>\n",
       "      <td>0.0</td>\n",
       "      <td>0.0</td>\n",
       "      <td>0.0</td>\n",
       "      <td>0.0</td>\n",
       "      <td>0.0</td>\n",
       "      <td>0.0</td>\n",
       "      <td>...</td>\n",
       "      <td>0.0</td>\n",
       "      <td>0.0</td>\n",
       "      <td>0.0</td>\n",
       "      <td>5.0</td>\n",
       "      <td>0.0</td>\n",
       "      <td>0.0</td>\n",
       "      <td>0.0</td>\n",
       "      <td>0.0</td>\n",
       "      <td>0.0</td>\n",
       "      <td>3.0</td>\n",
       "    </tr>\n",
       "    <tr>\n",
       "      <th>3</th>\n",
       "      <td>0.0</td>\n",
       "      <td>2.0</td>\n",
       "      <td>0.0</td>\n",
       "      <td>0.0</td>\n",
       "      <td>0.0</td>\n",
       "      <td>0.0</td>\n",
       "      <td>0.0</td>\n",
       "      <td>4.0</td>\n",
       "      <td>3.0</td>\n",
       "      <td>0.0</td>\n",
       "      <td>...</td>\n",
       "      <td>0.0</td>\n",
       "      <td>0.0</td>\n",
       "      <td>3.0</td>\n",
       "      <td>0.0</td>\n",
       "      <td>0.0</td>\n",
       "      <td>0.0</td>\n",
       "      <td>0.0</td>\n",
       "      <td>0.0</td>\n",
       "      <td>0.0</td>\n",
       "      <td>2.0</td>\n",
       "    </tr>\n",
       "    <tr>\n",
       "      <th>4</th>\n",
       "      <td>0.0</td>\n",
       "      <td>0.0</td>\n",
       "      <td>0.0</td>\n",
       "      <td>0.0</td>\n",
       "      <td>0.0</td>\n",
       "      <td>0.0</td>\n",
       "      <td>0.0</td>\n",
       "      <td>0.0</td>\n",
       "      <td>0.0</td>\n",
       "      <td>0.0</td>\n",
       "      <td>...</td>\n",
       "      <td>0.0</td>\n",
       "      <td>0.0</td>\n",
       "      <td>0.0</td>\n",
       "      <td>0.0</td>\n",
       "      <td>0.0</td>\n",
       "      <td>0.0</td>\n",
       "      <td>0.0</td>\n",
       "      <td>0.0</td>\n",
       "      <td>0.0</td>\n",
       "      <td>0.0</td>\n",
       "    </tr>\n",
       "    <tr>\n",
       "      <th>5</th>\n",
       "      <td>0.0</td>\n",
       "      <td>3.0</td>\n",
       "      <td>3.0</td>\n",
       "      <td>0.0</td>\n",
       "      <td>0.0</td>\n",
       "      <td>0.0</td>\n",
       "      <td>0.0</td>\n",
       "      <td>3.0</td>\n",
       "      <td>0.0</td>\n",
       "      <td>0.0</td>\n",
       "      <td>...</td>\n",
       "      <td>0.0</td>\n",
       "      <td>0.0</td>\n",
       "      <td>3.0</td>\n",
       "      <td>0.0</td>\n",
       "      <td>0.0</td>\n",
       "      <td>0.0</td>\n",
       "      <td>0.0</td>\n",
       "      <td>0.0</td>\n",
       "      <td>0.0</td>\n",
       "      <td>2.5</td>\n",
       "    </tr>\n",
       "  </tbody>\n",
       "</table>\n",
       "<p>5 rows × 668 columns</p>\n",
       "</div>"
      ],
      "text/plain": [
       "userId   1    2    3    4    5    6    7    8    9    10   ...  659  660  661  \\\n",
       "movieId                                                    ...                  \n",
       "1        0.0  5.0  0.0  0.0  4.0  0.0  0.0  5.0  0.0  0.0  ...  0.0  0.0  4.0   \n",
       "2        0.0  0.0  0.0  0.0  0.0  0.0  0.0  0.0  0.0  0.0  ...  0.0  0.0  0.0   \n",
       "3        0.0  2.0  0.0  0.0  0.0  0.0  0.0  4.0  3.0  0.0  ...  0.0  0.0  3.0   \n",
       "4        0.0  0.0  0.0  0.0  0.0  0.0  0.0  0.0  0.0  0.0  ...  0.0  0.0  0.0   \n",
       "5        0.0  3.0  3.0  0.0  0.0  0.0  0.0  3.0  0.0  0.0  ...  0.0  0.0  3.0   \n",
       "\n",
       "userId   662  663  664  665  666  667  668  \n",
       "movieId                                     \n",
       "1        5.0  3.0  0.0  0.0  0.0  0.0  3.0  \n",
       "2        5.0  0.0  0.0  0.0  0.0  0.0  3.0  \n",
       "3        0.0  0.0  0.0  0.0  0.0  0.0  2.0  \n",
       "4        0.0  0.0  0.0  0.0  0.0  0.0  0.0  \n",
       "5        0.0  0.0  0.0  0.0  0.0  0.0  2.5  \n",
       "\n",
       "[5 rows x 668 columns]"
      ]
     },
     "execution_count": 38,
     "metadata": {},
     "output_type": "execute_result"
    }
   ],
   "source": [
    "final_dataset = movies_matrics.loc[no_user_voted[no_user_voted > 10].index,:] #selecting only those movies which are voted by more than 10 users\n",
    "final_dataset.head()"
   ]
  },
  {
   "cell_type": "code",
   "execution_count": 39,
   "id": "1699ff7e-1f7a-455b-8bf0-655c572c74c2",
   "metadata": {
    "tags": []
   },
   "outputs": [
    {
     "data": {
      "text/plain": [
       "(2160, 668)"
      ]
     },
     "execution_count": 39,
     "metadata": {},
     "output_type": "execute_result"
    }
   ],
   "source": [
    "final_dataset.shape\n",
    "#movies count reduced to 2160 because of the 1st constraint applied"
   ]
  },
  {
   "cell_type": "markdown",
   "id": "0b957280-f41c-4cbe-bda3-db36f3549198",
   "metadata": {},
   "source": [
    "### Visualizing the number of votes by each user with the threshold value of 50."
   ]
  },
  {
   "cell_type": "code",
   "execution_count": 40,
   "id": "a0af9e5f-89ff-49ce-80b7-998fe26e588b",
   "metadata": {
    "tags": []
   },
   "outputs": [
    {
     "data": {
      "image/png": "[encoded data removed]",
      "text/plain": [
       "<Figure size 1200x400 with 1 Axes>"
      ]
     },
     "metadata": {},
     "output_type": "display_data"
    }
   ],
   "source": [
    "f,ax = plt.subplots(1,1,figsize=(12,4))\n",
    "plt.scatter(no_movies_voted.index,no_movies_voted,color='mediumseagreen')\n",
    "plt.axhline(y=50,color='r') #threshold of votes by each user in terms of all movies available\n",
    "plt.xlabel('UserId')\n",
    "plt.ylabel('No. of votes by user')\n",
    "plt.show()"
   ]
  },
  {
   "cell_type": "markdown",
   "id": "bf5f9b18-a9d0-4547-8a66-718e2fd7de43",
   "metadata": {},
   "source": [
    "#### Now, applying the second constraint, the columns size will also get reduced:"
   ]
  },
  {
   "cell_type": "code",
   "execution_count": 41,
   "id": "8f873ac2-4aa9-4774-b8e9-95d320b62cfb",
   "metadata": {
    "tags": []
   },
   "outputs": [
    {
     "data": {
      "text/html": [
       "<div>\n",
       "<style scoped>\n",
       "    .dataframe tbody tr th:only-of-type {\n",
       "        vertical-align: middle;\n",
       "    }\n",
       "\n",
       "    .dataframe tbody tr th {\n",
       "        vertical-align: top;\n",
       "    }\n",
       "\n",
       "    .dataframe thead th {\n",
       "        text-align: right;\n",
       "    }\n",
       "</style>\n",
       "<table border=\"1\" class=\"dataframe\">\n",
       "  <thead>\n",
       "    <tr style=\"text-align: right;\">\n",
       "      <th>userId</th>\n",
       "      <th>1</th>\n",
       "      <th>3</th>\n",
       "      <th>4</th>\n",
       "      <th>5</th>\n",
       "      <th>6</th>\n",
       "      <th>7</th>\n",
       "      <th>8</th>\n",
       "      <th>9</th>\n",
       "      <th>11</th>\n",
       "      <th>15</th>\n",
       "      <th>...</th>\n",
       "      <th>656</th>\n",
       "      <th>657</th>\n",
       "      <th>659</th>\n",
       "      <th>661</th>\n",
       "      <th>662</th>\n",
       "      <th>664</th>\n",
       "      <th>665</th>\n",
       "      <th>666</th>\n",
       "      <th>667</th>\n",
       "      <th>668</th>\n",
       "    </tr>\n",
       "    <tr>\n",
       "      <th>movieId</th>\n",
       "      <th></th>\n",
       "      <th></th>\n",
       "      <th></th>\n",
       "      <th></th>\n",
       "      <th></th>\n",
       "      <th></th>\n",
       "      <th></th>\n",
       "      <th></th>\n",
       "      <th></th>\n",
       "      <th></th>\n",
       "      <th></th>\n",
       "      <th></th>\n",
       "      <th></th>\n",
       "      <th></th>\n",
       "      <th></th>\n",
       "      <th></th>\n",
       "      <th></th>\n",
       "      <th></th>\n",
       "      <th></th>\n",
       "      <th></th>\n",
       "      <th></th>\n",
       "    </tr>\n",
       "  </thead>\n",
       "  <tbody>\n",
       "    <tr>\n",
       "      <th>1</th>\n",
       "      <td>0.0</td>\n",
       "      <td>0.0</td>\n",
       "      <td>0.0</td>\n",
       "      <td>4.0</td>\n",
       "      <td>0.0</td>\n",
       "      <td>0.0</td>\n",
       "      <td>5.0</td>\n",
       "      <td>0.0</td>\n",
       "      <td>4.0</td>\n",
       "      <td>0.0</td>\n",
       "      <td>...</td>\n",
       "      <td>0.0</td>\n",
       "      <td>0.0</td>\n",
       "      <td>0.0</td>\n",
       "      <td>4.0</td>\n",
       "      <td>5.0</td>\n",
       "      <td>0.0</td>\n",
       "      <td>0.0</td>\n",
       "      <td>0.0</td>\n",
       "      <td>0.0</td>\n",
       "      <td>3.0</td>\n",
       "    </tr>\n",
       "    <tr>\n",
       "      <th>2</th>\n",
       "      <td>0.0</td>\n",
       "      <td>0.0</td>\n",
       "      <td>0.0</td>\n",
       "      <td>0.0</td>\n",
       "      <td>0.0</td>\n",
       "      <td>0.0</td>\n",
       "      <td>0.0</td>\n",
       "      <td>0.0</td>\n",
       "      <td>0.0</td>\n",
       "      <td>0.0</td>\n",
       "      <td>...</td>\n",
       "      <td>3.0</td>\n",
       "      <td>0.0</td>\n",
       "      <td>0.0</td>\n",
       "      <td>0.0</td>\n",
       "      <td>5.0</td>\n",
       "      <td>0.0</td>\n",
       "      <td>0.0</td>\n",
       "      <td>0.0</td>\n",
       "      <td>0.0</td>\n",
       "      <td>3.0</td>\n",
       "    </tr>\n",
       "    <tr>\n",
       "      <th>3</th>\n",
       "      <td>0.0</td>\n",
       "      <td>0.0</td>\n",
       "      <td>0.0</td>\n",
       "      <td>0.0</td>\n",
       "      <td>0.0</td>\n",
       "      <td>0.0</td>\n",
       "      <td>4.0</td>\n",
       "      <td>3.0</td>\n",
       "      <td>0.0</td>\n",
       "      <td>0.0</td>\n",
       "      <td>...</td>\n",
       "      <td>0.0</td>\n",
       "      <td>0.0</td>\n",
       "      <td>0.0</td>\n",
       "      <td>3.0</td>\n",
       "      <td>0.0</td>\n",
       "      <td>0.0</td>\n",
       "      <td>0.0</td>\n",
       "      <td>0.0</td>\n",
       "      <td>0.0</td>\n",
       "      <td>2.0</td>\n",
       "    </tr>\n",
       "    <tr>\n",
       "      <th>4</th>\n",
       "      <td>0.0</td>\n",
       "      <td>0.0</td>\n",
       "      <td>0.0</td>\n",
       "      <td>0.0</td>\n",
       "      <td>0.0</td>\n",
       "      <td>0.0</td>\n",
       "      <td>0.0</td>\n",
       "      <td>0.0</td>\n",
       "      <td>0.0</td>\n",
       "      <td>0.0</td>\n",
       "      <td>...</td>\n",
       "      <td>0.0</td>\n",
       "      <td>0.0</td>\n",
       "      <td>0.0</td>\n",
       "      <td>0.0</td>\n",
       "      <td>0.0</td>\n",
       "      <td>0.0</td>\n",
       "      <td>0.0</td>\n",
       "      <td>0.0</td>\n",
       "      <td>0.0</td>\n",
       "      <td>0.0</td>\n",
       "    </tr>\n",
       "    <tr>\n",
       "      <th>5</th>\n",
       "      <td>0.0</td>\n",
       "      <td>3.0</td>\n",
       "      <td>0.0</td>\n",
       "      <td>0.0</td>\n",
       "      <td>0.0</td>\n",
       "      <td>0.0</td>\n",
       "      <td>3.0</td>\n",
       "      <td>0.0</td>\n",
       "      <td>0.0</td>\n",
       "      <td>0.0</td>\n",
       "      <td>...</td>\n",
       "      <td>3.0</td>\n",
       "      <td>0.0</td>\n",
       "      <td>0.0</td>\n",
       "      <td>3.0</td>\n",
       "      <td>0.0</td>\n",
       "      <td>0.0</td>\n",
       "      <td>0.0</td>\n",
       "      <td>0.0</td>\n",
       "      <td>0.0</td>\n",
       "      <td>2.5</td>\n",
       "    </tr>\n",
       "  </tbody>\n",
       "</table>\n",
       "<p>5 rows × 420 columns</p>\n",
       "</div>"
      ],
      "text/plain": [
       "userId   1    3    4    5    6    7    8    9    11   15   ...  656  657  659  \\\n",
       "movieId                                                    ...                  \n",
       "1        0.0  0.0  0.0  4.0  0.0  0.0  5.0  0.0  4.0  0.0  ...  0.0  0.0  0.0   \n",
       "2        0.0  0.0  0.0  0.0  0.0  0.0  0.0  0.0  0.0  0.0  ...  3.0  0.0  0.0   \n",
       "3        0.0  0.0  0.0  0.0  0.0  0.0  4.0  3.0  0.0  0.0  ...  0.0  0.0  0.0   \n",
       "4        0.0  0.0  0.0  0.0  0.0  0.0  0.0  0.0  0.0  0.0  ...  0.0  0.0  0.0   \n",
       "5        0.0  3.0  0.0  0.0  0.0  0.0  3.0  0.0  0.0  0.0  ...  3.0  0.0  0.0   \n",
       "\n",
       "userId   661  662  664  665  666  667  668  \n",
       "movieId                                     \n",
       "1        4.0  5.0  0.0  0.0  0.0  0.0  3.0  \n",
       "2        0.0  5.0  0.0  0.0  0.0  0.0  3.0  \n",
       "3        3.0  0.0  0.0  0.0  0.0  0.0  2.0  \n",
       "4        0.0  0.0  0.0  0.0  0.0  0.0  0.0  \n",
       "5        3.0  0.0  0.0  0.0  0.0  0.0  2.5  \n",
       "\n",
       "[5 rows x 420 columns]"
      ]
     },
     "execution_count": 41,
     "metadata": {},
     "output_type": "execute_result"
    }
   ],
   "source": [
    "final_dataset=final_dataset.loc[:,no_movies_voted[no_movies_voted > 50].index] #selecting only those users who had voted more than 50 movies\n",
    "final_dataset.head()"
   ]
  },
  {
   "cell_type": "code",
   "execution_count": 42,
   "id": "60ce9652-aee7-44d2-8b81-73b132c623b1",
   "metadata": {},
   "outputs": [
    {
     "data": {
      "text/plain": [
       "(2160, 420)"
      ]
     },
     "execution_count": 42,
     "metadata": {},
     "output_type": "execute_result"
    }
   ],
   "source": [
    "final_dataset.shape\n",
    "#Columns reduced to 420 from 668"
   ]
  },
  {
   "cell_type": "code",
   "execution_count": 43,
   "id": "9dbf1411-84f2-48e0-bc97-471d5e04f846",
   "metadata": {},
   "outputs": [],
   "source": [
    "# For using csr_matrix and NearestNeighbors algorithm:\n",
    "from scipy.sparse import csr_matrix\n",
    "from sklearn.neighbors import NearestNeighbors"
   ]
  },
  {
   "cell_type": "code",
   "execution_count": 44,
   "id": "c4b158bb-cb23-4594-adbb-d525ca7faee4",
   "metadata": {},
   "outputs": [],
   "source": [
    "# Applying csr_matrix function to remove sparsity from the dataset:\n",
    "csr_data = csr_matrix(final_dataset.values)\n",
    "final_dataset.reset_index(inplace=True)"
   ]
  },
  {
   "cell_type": "markdown",
   "id": "b870af8b-53c6-49ed-82e3-fc9d45ce09c6",
   "metadata": {},
   "source": [
    "final_dataset.head()"
   ]
  },
  {
   "cell_type": "markdown",
   "id": "68fdf9d3-07d5-45cd-a13d-a0cb2a4dd669",
   "metadata": {
    "tags": []
   },
   "source": [
    "#Displaying first record of csr_data\n",
    "print(csr_data.toarray()[:1])"
   ]
  },
  {
   "cell_type": "code",
   "execution_count": 45,
   "id": "fe8da7d5-b8fa-4418-9839-4c39699f1934",
   "metadata": {},
   "outputs": [
    {
     "data": {
      "text/plain": [
       "(2160, 421)"
      ]
     },
     "execution_count": 45,
     "metadata": {},
     "output_type": "execute_result"
    }
   ],
   "source": [
    "final_dataset.shape"
   ]
  },
  {
   "cell_type": "markdown",
   "id": "c9ceea77-283d-45b5-9fa2-ac83bc5eeb0f",
   "metadata": {},
   "source": [
    "### Here, we are going to use cosine distance metric to get similarity between different data points(users):"
   ]
  },
  {
   "cell_type": "code",
   "execution_count": 46,
   "id": "5742f6ca-95a1-47a7-8033-71f09d2a15e4",
   "metadata": {},
   "outputs": [
    {
     "data": {
      "text/html": [
       "<style>#sk-container-id-1 {color: black;}#sk-container-id-1 pre{padding: 0;}#sk-container-id-1 div.sk-toggleable {background-color: white;}#sk-container-id-1 label.sk-toggleable__label {cursor: pointer;display: block;width: 100%;margin-bottom: 0;padding: 0.3em;box-sizing: border-box;text-align: center;}#sk-container-id-1 label.sk-toggleable__label-arrow:before {content: \"▸\";float: left;margin-right: 0.25em;color: #696969;}#sk-container-id-1 label.sk-toggleable__label-arrow:hover:before {color: black;}#sk-container-id-1 div.sk-estimator:hover label.sk-toggleable__label-arrow:before {color: black;}#sk-container-id-1 div.sk-toggleable__content {max-height: 0;max-width: 0;overflow: hidden;text-align: left;background-color: #f0f8ff;}#sk-container-id-1 div.sk-toggleable__content pre {margin: 0.2em;color: black;border-radius: 0.25em;background-color: #f0f8ff;}#sk-container-id-1 input.sk-toggleable__control:checked~div.sk-toggleable__content {max-height: 200px;max-width: 100%;overflow: auto;}#sk-container-id-1 input.sk-toggleable__control:checked~label.sk-toggleable__label-arrow:before {content: \"▾\";}#sk-container-id-1 div.sk-estimator input.sk-toggleable__control:checked~label.sk-toggleable__label {background-color: #d4ebff;}#sk-container-id-1 div.sk-label input.sk-toggleable__control:checked~label.sk-toggleable__label {background-color: #d4ebff;}#sk-container-id-1 input.sk-hidden--visually {border: 0;clip: rect(1px 1px 1px 1px);clip: rect(1px, 1px, 1px, 1px);height: 1px;margin: -1px;overflow: hidden;padding: 0;position: absolute;width: 1px;}#sk-container-id-1 div.sk-estimator {font-family: monospace;background-color: #f0f8ff;border: 1px dotted black;border-radius: 0.25em;box-sizing: border-box;margin-bottom: 0.5em;}#sk-container-id-1 div.sk-estimator:hover {background-color: #d4ebff;}#sk-container-id-1 div.sk-parallel-item::after {content: \"\";width: 100%;border-bottom: 1px solid gray;flex-grow: 1;}#sk-container-id-1 div.sk-label:hover label.sk-toggleable__label {background-color: #d4ebff;}#sk-container-id-1 div.sk-serial::before {content: \"\";position: absolute;border-left: 1px solid gray;box-sizing: border-box;top: 0;bottom: 0;left: 50%;z-index: 0;}#sk-container-id-1 div.sk-serial {display: flex;flex-direction: column;align-items: center;background-color: white;padding-right: 0.2em;padding-left: 0.2em;position: relative;}#sk-container-id-1 div.sk-item {position: relative;z-index: 1;}#sk-container-id-1 div.sk-parallel {display: flex;align-items: stretch;justify-content: center;background-color: white;position: relative;}#sk-container-id-1 div.sk-item::before, #sk-container-id-1 div.sk-parallel-item::before {content: \"\";position: absolute;border-left: 1px solid gray;box-sizing: border-box;top: 0;bottom: 0;left: 50%;z-index: -1;}#sk-container-id-1 div.sk-parallel-item {display: flex;flex-direction: column;z-index: 1;position: relative;background-color: white;}#sk-container-id-1 div.sk-parallel-item:first-child::after {align-self: flex-end;width: 50%;}#sk-container-id-1 div.sk-parallel-item:last-child::after {align-self: flex-start;width: 50%;}#sk-container-id-1 div.sk-parallel-item:only-child::after {width: 0;}#sk-container-id-1 div.sk-dashed-wrapped {border: 1px dashed gray;margin: 0 0.4em 0.5em 0.4em;box-sizing: border-box;padding-bottom: 0.4em;background-color: white;}#sk-container-id-1 div.sk-label label {font-family: monospace;font-weight: bold;display: inline-block;line-height: 1.2em;}#sk-container-id-1 div.sk-label-container {text-align: center;}#sk-container-id-1 div.sk-container {/* jupyter's `normalize.less` sets `[hidden] { display: none; }` but bootstrap.min.css set `[hidden] { display: none !important; }` so we also need the `!important` here to be able to override the default hidden behavior on the sphinx rendered scikit-learn.org. See: https://github.com/scikit-learn/scikit-learn/issues/21755 */display: inline-block !important;position: relative;}#sk-container-id-1 div.sk-text-repr-fallback {display: none;}</style><div id=\"sk-container-id-1\" class=\"sk-top-container\"><div class=\"sk-text-repr-fallback\"><pre>NearestNeighbors(algorithm=&#x27;brute&#x27;, metric=&#x27;cosine&#x27;, n_jobs=-1, n_neighbors=20)</pre><b>In a Jupyter environment, please rerun this cell to show the HTML representation or trust the notebook. <br />On GitHub, the HTML representation is unable to render, please try loading this page with nbviewer.org.</b></div><div class=\"sk-container\" hidden><div class=\"sk-item\"><div class=\"sk-estimator sk-toggleable\"><input class=\"sk-toggleable__control sk-hidden--visually\" id=\"sk-estimator-id-1\" type=\"checkbox\" checked><label for=\"sk-estimator-id-1\" class=\"sk-toggleable__label sk-toggleable__label-arrow\">NearestNeighbors</label><div class=\"sk-toggleable__content\"><pre>NearestNeighbors(algorithm=&#x27;brute&#x27;, metric=&#x27;cosine&#x27;, n_jobs=-1, n_neighbors=20)</pre></div></div></div></div></div>"
      ],
      "text/plain": [
       "NearestNeighbors(algorithm='brute', metric='cosine', n_jobs=-1, n_neighbors=20)"
      ]
     },
     "execution_count": 46,
     "metadata": {},
     "output_type": "execute_result"
    }
   ],
   "source": [
    "knn = NearestNeighbors(metric='cosine', algorithm='brute', n_neighbors=20, n_jobs=-1) #intializing the model\n",
    "knn.fit(csr_data) #fitting the csr_data with the model"
   ]
  },
  {
   "cell_type": "code",
   "execution_count": 50,
   "id": "d23b4dc9",
   "metadata": {},
   "outputs": [
    {
     "data": {
      "application/vnd.jupyter.widget-view+json": {
       "model_id": "77465726d94d4e1c8c77715965e77e27",
       "version_major": 2,
       "version_minor": 0
      },
      "text/plain": [
       "Text(value='', description='Movie Name:', placeholder='Enter a movie name')"
      ]
     },
     "metadata": {},
     "output_type": "display_data"
    },
    {
     "data": {
      "application/vnd.jupyter.widget-view+json": {
       "model_id": "b6677d3ed9bf4876acbcef2a23056a26",
       "version_major": 2,
       "version_minor": 0
      },
      "text/plain": [
       "Button(button_style='success', description='Get Recommendations', style=ButtonStyle())"
      ]
     },
     "metadata": {},
     "output_type": "display_data"
    },
    {
     "name": "stdout",
     "output_type": "stream",
     "text": [
      "Top 10 Movies related to this movie ===>\n"
     ]
    },
    {
     "data": {
      "application/vnd.jupyter.widget-view+json": {
       "model_id": "04feca3ff7694fb0bd2e261b03ea7c01",
       "version_major": 2,
       "version_minor": 0
      },
      "text/plain": [
       "Output()"
      ]
     },
     "metadata": {},
     "output_type": "display_data"
    }
   ],
   "source": [
    "import ipywidgets as widgets\n",
    "from IPython.display import display\n",
    "\n",
    "# Create an input widget for movie name\n",
    "movie_name_widget = widgets.Text(\n",
    "    value='',\n",
    "    placeholder='Enter a movie name',\n",
    "    description='Movie Name:',\n",
    "    disabled=False\n",
    ")\n",
    "\n",
    "output = widgets.Output()\n",
    "\n",
    "# Define a function to get movie recommendations\n",
    "def get_movie_recommendation(movie_name):\n",
    "    n_movies_to_recommend = 10\n",
    "    movie_list = merged_df[merged_df['title'].str.contains(movie_name)]\n",
    "    \n",
    "    if len(movie_list) > 0:\n",
    "        movie_idx = movie_list.iloc[0]['movieId']\n",
    "        movie_idx = final_dataset[final_dataset['movieId'] == movie_idx].index[0]\n",
    "        \n",
    "        distances, indices = knn.kneighbors(csr_data[movie_idx], n_neighbors=n_movies_to_recommend + 1)\n",
    "        rec_movie_indices = sorted(list(zip(indices.squeeze().tolist(), distances.squeeze().tolist())),\n",
    "                                    key=lambda x: x[1])[:0:-1]\n",
    "        \n",
    "        recommend_frame = []\n",
    "        \n",
    "        for val in rec_movie_indices:\n",
    "            movie_idx = final_dataset.iloc[val[0]]['movieId']\n",
    "            idx = merged_df[merged_df['movieId'] == movie_idx].index\n",
    "            recommend_frame.append({'Title': merged_df.iloc[idx]['title'].values[0], 'Distance': val[1]})\n",
    "        \n",
    "        df = pd.DataFrame(recommend_frame, index=range(1, n_movies_to_recommend + 1))\n",
    "        return df\n",
    "    else:\n",
    "        return \"No movies found. Please check your input\"\n",
    "\n",
    "# Define a function to handle button click event\n",
    "def get_recommendations_button_click(b):\n",
    "    output.clear_output()\n",
    "    movie_name = movie_name_widget.value\n",
    "    with output:\n",
    "        recommendations = get_movie_recommendation(movie_name)\n",
    "        display(recommendations)\n",
    "\n",
    "# Create a button widget to trigger recommendations\n",
    "get_recommendations_button = widgets.Button(\n",
    "    description='Get Recommendations',\n",
    "    disabled=False,\n",
    "    button_style='success'  # 'success', 'info', 'warning', 'danger' or ''\n",
    ")\n",
    "\n",
    "# Set the button's click event handler\n",
    "get_recommendations_button.on_click(get_recommendations_button_click)\n",
    "\n",
    "# Display the widgets\n",
    "display(movie_name_widget)\n",
    "display(get_recommendations_button)\n",
    "print(\"Top 10 Movies related to this movie ===>\")\n",
    "display(output)"
   ]
  },
  {
   "cell_type": "markdown",
   "id": "57e4bc3a",
   "metadata": {},
   "source": [
    "#Test1:\n",
    "get_movie_recommendation('Liar Liar')"
   ]
  },
  {
   "cell_type": "markdown",
   "id": "0b5a96e8",
   "metadata": {},
   "source": [
    "#Test2:\n",
    "get_movie_recommendation('Spider-Man')"
   ]
  },
  {
   "cell_type": "markdown",
   "id": "6ad9498e-e289-46ec-bf5c-5cca0d4fd161",
   "metadata": {},
   "source": [
    "movies_ds[movies_ds['title']=='Iron Man']"
   ]
  },
  {
   "cell_type": "markdown",
   "id": "6765d296",
   "metadata": {},
   "source": [
    "### While working on this project, I built three types of recommendation systems and gone through the EDA process. I also added ipywidgets to make the generation of results more visually appealing."
   ]
  },
  {
   "cell_type": "code",
   "execution_count": null,
   "id": "35092622",
   "metadata": {},
   "outputs": [],
   "source": []
  }
 ],
 "metadata": {
  "kernelspec": {
   "display_name": "Python 3 (ipykernel)",
   "language": "python",
   "name": "python3"
  },
  "language_info": {
   "codemirror_mode": {
    "name": "ipython",
    "version": 3
   },
   "file_extension": ".py",
   "mimetype": "text/x-python",
   "name": "python",
   "nbconvert_exporter": "python",
   "pygments_lexer": "ipython3",
   "version": "3.11.4"
  }
 },
 "nbformat": 4,
 "nbformat_minor": 5
}
